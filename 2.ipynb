{
  "nbformat": 4,
  "nbformat_minor": 0,
  "metadata": {
    "colab": {
      "name": "2.ipynb",
      "provenance": [],
      "authorship_tag": "ABX9TyNTUfZZxWmctstIy+n1L96W",
      "include_colab_link": true
    },
    "kernelspec": {
      "name": "python3",
      "display_name": "Python 3"
    }
  },
  "cells": [
    {
      "cell_type": "markdown",
      "metadata": {
        "id": "view-in-github",
        "colab_type": "text"
      },
      "source": [
        "<a href=\"https://colab.research.google.com/github/nhattminh160901/1/blob/main/2.ipynb\" target=\"_parent\"><img src=\"https://colab.research.google.com/assets/colab-badge.svg\" alt=\"Open In Colab\"/></a>"
      ]
    },
    {
      "cell_type": "markdown",
      "metadata": {
        "id": "mem4UPt2Lltw"
      },
      "source": [
        "Bài 1:"
      ]
    },
    {
      "cell_type": "code",
      "metadata": {
        "id": "LPRcQwr2K40s",
        "outputId": "9974bf0f-7ca6-47f2-842d-59e3c0e6ca8e",
        "colab": {
          "base_uri": "https://localhost:8080/",
          "height": 119
        }
      },
      "source": [
        "a= input(\"a=\")\n",
        "b= input(\"b=\")\n",
        "a= int(a)\n",
        "b= int(b)\n",
        "c=a+b\n",
        "d=a-b\n",
        "print(\"1. a+b=\",c)\n",
        "print(\"2. a-b=\",d)\n",
        "print(\"3. Phép chia lấy phần dư của 2 số: \",a % b)\n",
        "print(\"4. Phép chia lấy phần nguyên của 2 số: \",a // b)"
      ],
      "execution_count": 25,
      "outputs": [
        {
          "output_type": "stream",
          "text": [
            "a=1\n",
            "b=2\n",
            "1. a+b= 3\n",
            "2. a-b= -1\n",
            "3. Phép chia lấy phần dư của 2 số:  1\n",
            "4. Phép chia lấy phần nguyên của 2 số:  0\n"
          ],
          "name": "stdout"
        }
      ]
    },
    {
      "cell_type": "markdown",
      "metadata": {
        "id": "3vhTndn9LoYb"
      },
      "source": [
        "Bài 2:"
      ]
    },
    {
      "cell_type": "code",
      "metadata": {
        "id": "gaHwrZVFLr4b",
        "outputId": "4d63cb9d-54d4-41d3-8084-8e839b549953",
        "colab": {
          "base_uri": "https://localhost:8080/",
          "height": 119
        }
      },
      "source": [
        "a= input(\"a=\")\n",
        "b= input(\"b=\")\n",
        "a= float(a)\n",
        "b= float(b)\n",
        "print(\"1. a+b=\",a+b)\n",
        "print(\"2. a*b=\",a*b)\n",
        "print(\"3. a-b=\",a-b)\n",
        "print(\"4. a/b=\",a/b)"
      ],
      "execution_count": 24,
      "outputs": [
        {
          "output_type": "stream",
          "text": [
            "a=1\n",
            "b=2\n",
            "1. a+b= 3.0\n",
            "2. a*b= 2.0\n",
            "3. a-b= -1.0\n",
            "4. a/b= 0.5\n"
          ],
          "name": "stdout"
        }
      ]
    },
    {
      "cell_type": "markdown",
      "metadata": {
        "id": "VkRVzvw7Q9SW"
      },
      "source": [
        "Bài 3:"
      ]
    },
    {
      "cell_type": "code",
      "metadata": {
        "id": "nAtcOum4RACA",
        "outputId": "1285e351-dd37-4de2-b1f1-46a22297764d",
        "colab": {
          "base_uri": "https://localhost:8080/",
          "height": 136
        }
      },
      "source": [
        "x= input(\"x=\")\n",
        "x= float(x)\n",
        "import math\n",
        "print(\"1. Trị tuyệt đối: \",abs(x))\n",
        "print(\"2. Lấy phần nguyên của số: \",math.trunc(x))\n",
        "print(\"3. Chuyển đổi thành số thực: \",float(x))\n",
        "y = input(\"y=\")\n",
        "y = float(y)\n",
        "print(\"4. Tính lũy thừa:\", pow(x, y))\n",
        "print(\"5. Tính căn bậc hai: \",math.sqrt(x))\n"
      ],
      "execution_count": 26,
      "outputs": [
        {
          "output_type": "stream",
          "text": [
            "x=5\n",
            "1. Trị tuyệt đối:  5.0\n",
            "2. Lấy phần nguyên của số:  5\n",
            "3. Chuyển đổi thành số thực:  5.0\n",
            "y=2\n",
            "4. Tính lũy thừa: 25.0\n",
            "5. Tính căn bậc hai:  2.23606797749979\n"
          ],
          "name": "stdout"
        }
      ]
    },
    {
      "cell_type": "markdown",
      "metadata": {
        "id": "h_xN3syYWEei"
      },
      "source": [
        "Bài 4:"
      ]
    },
    {
      "cell_type": "code",
      "metadata": {
        "id": "x8U_LCj9WD_N",
        "outputId": "a25cc652-2940-4438-9bc6-98f4cc0a73df",
        "colab": {
          "base_uri": "https://localhost:8080/",
          "height": 136
        }
      },
      "source": [
        "a= input(\"a=\")\n",
        "b= input(\"b=\")\n",
        "a= float(a)\n",
        "b= float(b)\n",
        "print(\"1. a>=b:\", a >= b)\n",
        "print(\"2. a<=b:\", a <= b)\n",
        "print(\"3. a>b:\", a > b)\n",
        "print(\"4. a<b:\", a < b)\n",
        "print(\"5. a!=b:\", a != b)"
      ],
      "execution_count": 34,
      "outputs": [
        {
          "output_type": "stream",
          "text": [
            "a=2.3\n",
            "b=3.1\n",
            "1. a>=b: False\n",
            "2. a<=b: True\n",
            "3. a>b: False\n",
            "4. a<b: True\n",
            "5. a!=b: True\n"
          ],
          "name": "stdout"
        }
      ]
    },
    {
      "cell_type": "markdown",
      "metadata": {
        "id": "tMSAV2XQYipZ"
      },
      "source": [
        "Bài 5:"
      ]
    },
    {
      "cell_type": "code",
      "metadata": {
        "id": "0IPHMPBfYpph",
        "outputId": "3601bbb8-0b87-4e78-8f19-828b14b7060b",
        "colab": {
          "base_uri": "https://localhost:8080/",
          "height": 68
        }
      },
      "source": [
        "string= input(\"Nhập 1 chuỗi ký tự từ bàn phím: \")\n",
        "print(\"1. Chuyển thành chuỗi in hoa: \",string.upper())\n",
        "print(\"2. Chuyển thành chuỗi in thường: \",string.lower())"
      ],
      "execution_count": 38,
      "outputs": [
        {
          "output_type": "stream",
          "text": [
            "Nhập 1 chuỗi ký tự từ bàn phím: la la la\n",
            "1. Chuyển thành chuỗi in hoa:  LA LA LA\n",
            "2. Chuyển thành chuỗi in thường:  la la la\n"
          ],
          "name": "stdout"
        }
      ]
    },
    {
      "cell_type": "markdown",
      "metadata": {
        "id": "aF6JloALZrse"
      },
      "source": [
        "Bài 6:"
      ]
    },
    {
      "cell_type": "code",
      "metadata": {
        "id": "kue6wKpMZttP",
        "outputId": "2a6de6eb-532e-4d94-f49b-46fcbf87ec91",
        "colab": {
          "base_uri": "https://localhost:8080/",
          "height": 85
        }
      },
      "source": [
        "a= \"\"\"asdklj123lk12j4kklkjasdjajldkjl\n",
        "jklskfjlaksdjklasldjk\n",
        "afjkalsfkafjkj1234;fap=90\"\"\"\n",
        "print(\"Chuỗi ký tự nằm trên nhiều hàng:\\n\",a)"
      ],
      "execution_count": 43,
      "outputs": [
        {
          "output_type": "stream",
          "text": [
            "Chuỗi ký tự nằm trên nhiều hàng:\n",
            " asdklj123lk12j4kklkjasdjajldkjl\n",
            "jklskfjlaksdjklasldjk\n",
            "afjkalsfkafjkj1234;fap=90\n"
          ],
          "name": "stdout"
        }
      ]
    }
  ]
}