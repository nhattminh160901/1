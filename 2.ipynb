{
  "nbformat": 4,
  "nbformat_minor": 0,
  "metadata": {
    "colab": {
      "name": "2.ipynb",
      "provenance": [],
      "authorship_tag": "ABX9TyOjR6NpizyAMd72xpd/e1iO",
      "include_colab_link": true
    },
    "kernelspec": {
      "name": "python3",
      "display_name": "Python 3"
    }
  },
  "cells": [
    {
      "cell_type": "markdown",
      "metadata": {
        "id": "view-in-github",
        "colab_type": "text"
      },
      "source": [
        "<a href=\"https://colab.research.google.com/github/nhattminh160901/1/blob/main/2.ipynb\" target=\"_parent\"><img src=\"https://colab.research.google.com/assets/colab-badge.svg\" alt=\"Open In Colab\"/></a>"
      ]
    },
    {
      "cell_type": "markdown",
      "metadata": {
        "id": "mem4UPt2Lltw"
      },
      "source": [
        "Bài 1:"
      ]
    },
    {
      "cell_type": "code",
      "metadata": {
        "id": "LPRcQwr2K40s",
        "outputId": "4176e6e7-78ce-4da6-84cd-815c37e7dff3",
        "colab": {
          "base_uri": "https://localhost:8080/"
        }
      },
      "source": [
        "a= input(\"a = \")\n",
        "b= input(\"b = \")\n",
        "a= int(a)\n",
        "b= int(b)\n",
        "c=a+b\n",
        "d=a-b\n",
        "print(\"1. a + b = \",c)\n",
        "print(\"2. a - b = \",d)\n",
        "while (b==0):\n",
        "    try:\n",
        "        chia0 = a/b\n",
        "    except ZeroDivisionError:\n",
        "        b= int(input(\"Không chia được cho 0. Nhập lại b: \"))\n",
        "print(\"3. Phép chia lấy phần dư của 2 số: \",a % b)\n",
        "print(\"4. Phép chia lấy phần nguyên của 2 số: \",a // b)"
      ],
      "execution_count": 1,
      "outputs": [
        {
          "output_type": "stream",
          "text": [
            "a = 5\n",
            "b = 0\n",
            "1. a + b =  5\n",
            "2. a - b =  5\n",
            "Không chia được cho 0. Nhập lại b: -3\n",
            "3. Phép chia lấy phần dư của 2 số:  -1\n",
            "4. Phép chia lấy phần nguyên của 2 số:  -2\n"
          ],
          "name": "stdout"
        }
      ]
    },
    {
      "cell_type": "markdown",
      "metadata": {
        "id": "3vhTndn9LoYb"
      },
      "source": [
        "Bài 2:"
      ]
    },
    {
      "cell_type": "code",
      "metadata": {
        "id": "gaHwrZVFLr4b",
        "outputId": "0808dbc5-4a28-48b0-cb91-6c9a0549531f",
        "colab": {
          "base_uri": "https://localhost:8080/"
        }
      },
      "source": [
        "a= input(\"a = \")\n",
        "b= input(\"b = \")\n",
        "a= float(a)\n",
        "b= float(b)\n",
        "print(\"1. a + b = \" ,a+b)\n",
        "print(\"2. a * b = \" ,a*b)\n",
        "print(\"3. a - b = \" ,a-b)\n",
        "while (b==0):\n",
        "    try:\n",
        "        chia0 = a/b\n",
        "    except ZeroDivisionError:\n",
        "        b= float(input(\"Không chia được cho 0. Nhập lại b: \"))\n",
        "print(\"4. a / b= \",a/b)"
      ],
      "execution_count": 2,
      "outputs": [
        {
          "output_type": "stream",
          "text": [
            "a = 2.4\n",
            "b = 0\n",
            "1. a + b =  2.4\n",
            "2. a * b =  0.0\n",
            "3. a - b =  2.4\n",
            "Không chia được cho 0. Nhập lại b: 4.2\n",
            "4. a / b=  0.5714285714285714\n"
          ],
          "name": "stdout"
        }
      ]
    },
    {
      "cell_type": "markdown",
      "metadata": {
        "id": "VkRVzvw7Q9SW"
      },
      "source": [
        "Bài 3:"
      ]
    },
    {
      "cell_type": "code",
      "metadata": {
        "id": "nAtcOum4RACA",
        "outputId": "7a1f7388-33c8-434d-8203-8b009c136b1d",
        "colab": {
          "base_uri": "https://localhost:8080/"
        }
      },
      "source": [
        "x= input(\"x = \")\n",
        "x= float(x)\n",
        "import math\n",
        "print(\"1. Trị tuyệt đối: \",abs(x))\n",
        "print(\"2. Lấy phần nguyên của số: \",math.trunc(x))\n",
        "print(\"3. Chuyển đổi thành số thực: \",float(x))\n",
        "y = input(\"y = \")\n",
        "y = float(y)\n",
        "print(\"4. Tính lũy thừa:\", pow(x, y))\n",
        "if x<0:\n",
        "    print(\"Không căn bậc hai được một số âm\")\n",
        "else:\n",
        "    print(\"5. Tính căn bậc hai: \",math.sqrt(x))"
      ],
      "execution_count": 3,
      "outputs": [
        {
          "output_type": "stream",
          "text": [
            "x = 4\n",
            "1. Trị tuyệt đối:  4.0\n",
            "2. Lấy phần nguyên của số:  4\n",
            "3. Chuyển đổi thành số thực:  4.0\n",
            "y = 2.3\n",
            "4. Tính lũy thừa: 24.251465064166364\n",
            "5. Tính căn bậc hai:  2.0\n"
          ],
          "name": "stdout"
        }
      ]
    },
    {
      "cell_type": "markdown",
      "metadata": {
        "id": "h_xN3syYWEei"
      },
      "source": [
        "Bài 4:"
      ]
    },
    {
      "cell_type": "code",
      "metadata": {
        "id": "x8U_LCj9WD_N",
        "outputId": "d5ab216d-b75c-4800-c0ec-7e0950650628",
        "colab": {
          "base_uri": "https://localhost:8080/"
        }
      },
      "source": [
        "a= input(\"a = \")\n",
        "b= input(\"b = \")\n",
        "a= float(a)\n",
        "b= float(b)\n",
        "print(\"1. a >= b:\", a >= b)\n",
        "print(\"2. a <= b:\", a <= b)\n",
        "print(\"3. a > b:\", a > b)\n",
        "print(\"4. a < b:\", a < b)\n",
        "print(\"5. a != b:\", a != b)"
      ],
      "execution_count": 4,
      "outputs": [
        {
          "output_type": "stream",
          "text": [
            "a = 3\n",
            "b = 3.0\n",
            "1. a >= b: True\n",
            "2. a <= b: True\n",
            "3. a > b: False\n",
            "4. a < b: False\n",
            "5. a != b: False\n"
          ],
          "name": "stdout"
        }
      ]
    },
    {
      "cell_type": "markdown",
      "metadata": {
        "id": "tMSAV2XQYipZ"
      },
      "source": [
        "Bài 5:"
      ]
    },
    {
      "cell_type": "code",
      "metadata": {
        "id": "0IPHMPBfYpph",
        "outputId": "4c072017-e1c1-4e88-be91-19e72182b4d0",
        "colab": {
          "base_uri": "https://localhost:8080/"
        }
      },
      "source": [
        "string= input(\"Nhập 1 chuỗi ký tự từ bàn phím: \")\n",
        "print(\"1. Chuyển thành chuỗi in hoa: \",string.upper())\n",
        "print(\"2. Chuyển thành chuỗi in thường: \",string.lower())"
      ],
      "execution_count": 5,
      "outputs": [
        {
          "output_type": "stream",
          "text": [
            "Nhập 1 chuỗi ký tự từ bàn phím: Cánh đồng tuyết rơi\n",
            "1. Chuyển thành chuỗi in hoa:  CÁNH ĐỒNG TUYẾT RƠI\n",
            "2. Chuyển thành chuỗi in thường:  cánh đồng tuyết rơi\n"
          ],
          "name": "stdout"
        }
      ]
    },
    {
      "cell_type": "markdown",
      "metadata": {
        "id": "aF6JloALZrse"
      },
      "source": [
        "Bài 6:"
      ]
    },
    {
      "cell_type": "code",
      "metadata": {
        "id": "kue6wKpMZttP",
        "outputId": "c4cc2e25-e28e-4788-c927-a84a28f4da1d",
        "colab": {
          "base_uri": "https://localhost:8080/"
        }
      },
      "source": [
        "a= \"\"\"asdklj123lk12j4kklkjasdjajldkjl\n",
        "jklskfjlaksdjklasldjk\n",
        "afjkalsfkafjkj1234;fap=90\"\"\"\n",
        "print(\"Chuỗi ký tự nằm trên nhiều hàng:\\n\",a)"
      ],
      "execution_count": 6,
      "outputs": [
        {
          "output_type": "stream",
          "text": [
            "Chuỗi ký tự nằm trên nhiều hàng:\n",
            " asdklj123lk12j4kklkjasdjajldkjl\n",
            "jklskfjlaksdjklasldjk\n",
            "afjkalsfkafjkj1234;fap=90\n"
          ],
          "name": "stdout"
        }
      ]
    }
  ]
}