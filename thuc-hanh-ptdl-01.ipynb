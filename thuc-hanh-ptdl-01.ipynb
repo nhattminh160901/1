{
  "nbformat": 4,
  "nbformat_minor": 0,
  "metadata": {
    "colab": {
      "name": "Untitled1.ipynb",
      "provenance": [],
      "authorship_tag": "ABX9TyMNHHqP49/ad0J1vWDhs+aY",
      "include_colab_link": true
    },
    "kernelspec": {
      "name": "python3",
      "display_name": "Python 3"
    },
    "language_info": {
      "name": "python"
    }
  },
  "cells": [
    {
      "cell_type": "markdown",
      "metadata": {
        "id": "view-in-github",
        "colab_type": "text"
      },
      "source": [
        "<a href=\"https://colab.research.google.com/github/nhattminh160901/1/blob/main/thuc-hanh-ptdl-01.ipynb\" target=\"_parent\"><img src=\"https://colab.research.google.com/assets/colab-badge.svg\" alt=\"Open In Colab\"/></a>"
      ]
    },
    {
      "cell_type": "code",
      "metadata": {
        "id": "9mFCskj9O-Ly"
      },
      "source": [
        "import pandas as pd\n",
        "import seaborn as sns\n",
        "import numpy as np\n",
        "import matplotlib as mpl\n",
        "import matplotlib.pyplot as plt"
      ],
      "execution_count": 1,
      "outputs": []
    },
    {
      "cell_type": "code",
      "metadata": {
        "colab": {
          "base_uri": "https://localhost:8080/",
          "height": 204
        },
        "id": "bYMsP6mFPKdW",
        "outputId": "19197df6-7b9f-46dd-bce2-31f4d6827788"
      },
      "source": [
        "mb_df = pd.read_csv(\"microbiome.csv\")\n",
        "mb_df.head()"
      ],
      "execution_count": 2,
      "outputs": [
        {
          "output_type": "execute_result",
          "data": {
            "text/html": [
              "<div>\n",
              "<style scoped>\n",
              "    .dataframe tbody tr th:only-of-type {\n",
              "        vertical-align: middle;\n",
              "    }\n",
              "\n",
              "    .dataframe tbody tr th {\n",
              "        vertical-align: top;\n",
              "    }\n",
              "\n",
              "    .dataframe thead th {\n",
              "        text-align: right;\n",
              "    }\n",
              "</style>\n",
              "<table border=\"1\" class=\"dataframe\">\n",
              "  <thead>\n",
              "    <tr style=\"text-align: right;\">\n",
              "      <th></th>\n",
              "      <th>Taxon</th>\n",
              "      <th>Patient</th>\n",
              "      <th>Tissue</th>\n",
              "      <th>Stool</th>\n",
              "    </tr>\n",
              "  </thead>\n",
              "  <tbody>\n",
              "    <tr>\n",
              "      <th>0</th>\n",
              "      <td>Firmicutes</td>\n",
              "      <td>1</td>\n",
              "      <td>632</td>\n",
              "      <td>305</td>\n",
              "    </tr>\n",
              "    <tr>\n",
              "      <th>1</th>\n",
              "      <td>Firmicutes</td>\n",
              "      <td>2</td>\n",
              "      <td>136</td>\n",
              "      <td>4182</td>\n",
              "    </tr>\n",
              "    <tr>\n",
              "      <th>2</th>\n",
              "      <td>Firmicutes</td>\n",
              "      <td>3</td>\n",
              "      <td>1174</td>\n",
              "      <td>703</td>\n",
              "    </tr>\n",
              "    <tr>\n",
              "      <th>3</th>\n",
              "      <td>Firmicutes</td>\n",
              "      <td>4</td>\n",
              "      <td>408</td>\n",
              "      <td>3946</td>\n",
              "    </tr>\n",
              "    <tr>\n",
              "      <th>4</th>\n",
              "      <td>Firmicutes</td>\n",
              "      <td>5</td>\n",
              "      <td>831</td>\n",
              "      <td>8605</td>\n",
              "    </tr>\n",
              "  </tbody>\n",
              "</table>\n",
              "</div>"
            ],
            "text/plain": [
              "        Taxon  Patient  Tissue  Stool\n",
              "0  Firmicutes        1     632    305\n",
              "1  Firmicutes        2     136   4182\n",
              "2  Firmicutes        3    1174    703\n",
              "3  Firmicutes        4     408   3946\n",
              "4  Firmicutes        5     831   8605"
            ]
          },
          "metadata": {
            "tags": []
          },
          "execution_count": 2
        }
      ]
    },
    {
      "cell_type": "code",
      "metadata": {
        "colab": {
          "base_uri": "https://localhost:8080/",
          "height": 204
        },
        "id": "B1jN9FeMQPf2",
        "outputId": "d0418020-eb3d-455a-a74c-067c069c498c"
      },
      "source": [
        "mb_df.tail()"
      ],
      "execution_count": 3,
      "outputs": [
        {
          "output_type": "execute_result",
          "data": {
            "text/html": [
              "<div>\n",
              "<style scoped>\n",
              "    .dataframe tbody tr th:only-of-type {\n",
              "        vertical-align: middle;\n",
              "    }\n",
              "\n",
              "    .dataframe tbody tr th {\n",
              "        vertical-align: top;\n",
              "    }\n",
              "\n",
              "    .dataframe thead th {\n",
              "        text-align: right;\n",
              "    }\n",
              "</style>\n",
              "<table border=\"1\" class=\"dataframe\">\n",
              "  <thead>\n",
              "    <tr style=\"text-align: right;\">\n",
              "      <th></th>\n",
              "      <th>Taxon</th>\n",
              "      <th>Patient</th>\n",
              "      <th>Tissue</th>\n",
              "      <th>Stool</th>\n",
              "    </tr>\n",
              "  </thead>\n",
              "  <tbody>\n",
              "    <tr>\n",
              "      <th>70</th>\n",
              "      <td>Other</td>\n",
              "      <td>11</td>\n",
              "      <td>203</td>\n",
              "      <td>6</td>\n",
              "    </tr>\n",
              "    <tr>\n",
              "      <th>71</th>\n",
              "      <td>Other</td>\n",
              "      <td>12</td>\n",
              "      <td>392</td>\n",
              "      <td>6</td>\n",
              "    </tr>\n",
              "    <tr>\n",
              "      <th>72</th>\n",
              "      <td>Other</td>\n",
              "      <td>13</td>\n",
              "      <td>28</td>\n",
              "      <td>25</td>\n",
              "    </tr>\n",
              "    <tr>\n",
              "      <th>73</th>\n",
              "      <td>Other</td>\n",
              "      <td>14</td>\n",
              "      <td>12</td>\n",
              "      <td>22</td>\n",
              "    </tr>\n",
              "    <tr>\n",
              "      <th>74</th>\n",
              "      <td>Other</td>\n",
              "      <td>15</td>\n",
              "      <td>305</td>\n",
              "      <td>32</td>\n",
              "    </tr>\n",
              "  </tbody>\n",
              "</table>\n",
              "</div>"
            ],
            "text/plain": [
              "    Taxon  Patient  Tissue  Stool\n",
              "70  Other       11     203      6\n",
              "71  Other       12     392      6\n",
              "72  Other       13      28     25\n",
              "73  Other       14      12     22\n",
              "74  Other       15     305     32"
            ]
          },
          "metadata": {
            "tags": []
          },
          "execution_count": 3
        }
      ]
    },
    {
      "cell_type": "code",
      "metadata": {
        "colab": {
          "base_uri": "https://localhost:8080/",
          "height": 514
        },
        "id": "nRaRlyxVQQd0",
        "outputId": "9511ea86-814a-48fa-a509-0a0de1bd4344"
      },
      "source": [
        "mb_df.head(15)"
      ],
      "execution_count": 4,
      "outputs": [
        {
          "output_type": "execute_result",
          "data": {
            "text/html": [
              "<div>\n",
              "<style scoped>\n",
              "    .dataframe tbody tr th:only-of-type {\n",
              "        vertical-align: middle;\n",
              "    }\n",
              "\n",
              "    .dataframe tbody tr th {\n",
              "        vertical-align: top;\n",
              "    }\n",
              "\n",
              "    .dataframe thead th {\n",
              "        text-align: right;\n",
              "    }\n",
              "</style>\n",
              "<table border=\"1\" class=\"dataframe\">\n",
              "  <thead>\n",
              "    <tr style=\"text-align: right;\">\n",
              "      <th></th>\n",
              "      <th>Taxon</th>\n",
              "      <th>Patient</th>\n",
              "      <th>Tissue</th>\n",
              "      <th>Stool</th>\n",
              "    </tr>\n",
              "  </thead>\n",
              "  <tbody>\n",
              "    <tr>\n",
              "      <th>0</th>\n",
              "      <td>Firmicutes</td>\n",
              "      <td>1</td>\n",
              "      <td>632</td>\n",
              "      <td>305</td>\n",
              "    </tr>\n",
              "    <tr>\n",
              "      <th>1</th>\n",
              "      <td>Firmicutes</td>\n",
              "      <td>2</td>\n",
              "      <td>136</td>\n",
              "      <td>4182</td>\n",
              "    </tr>\n",
              "    <tr>\n",
              "      <th>2</th>\n",
              "      <td>Firmicutes</td>\n",
              "      <td>3</td>\n",
              "      <td>1174</td>\n",
              "      <td>703</td>\n",
              "    </tr>\n",
              "    <tr>\n",
              "      <th>3</th>\n",
              "      <td>Firmicutes</td>\n",
              "      <td>4</td>\n",
              "      <td>408</td>\n",
              "      <td>3946</td>\n",
              "    </tr>\n",
              "    <tr>\n",
              "      <th>4</th>\n",
              "      <td>Firmicutes</td>\n",
              "      <td>5</td>\n",
              "      <td>831</td>\n",
              "      <td>8605</td>\n",
              "    </tr>\n",
              "    <tr>\n",
              "      <th>5</th>\n",
              "      <td>Firmicutes</td>\n",
              "      <td>6</td>\n",
              "      <td>693</td>\n",
              "      <td>50</td>\n",
              "    </tr>\n",
              "    <tr>\n",
              "      <th>6</th>\n",
              "      <td>Firmicutes</td>\n",
              "      <td>7</td>\n",
              "      <td>718</td>\n",
              "      <td>717</td>\n",
              "    </tr>\n",
              "    <tr>\n",
              "      <th>7</th>\n",
              "      <td>Firmicutes</td>\n",
              "      <td>8</td>\n",
              "      <td>173</td>\n",
              "      <td>33</td>\n",
              "    </tr>\n",
              "    <tr>\n",
              "      <th>8</th>\n",
              "      <td>Firmicutes</td>\n",
              "      <td>9</td>\n",
              "      <td>228</td>\n",
              "      <td>80</td>\n",
              "    </tr>\n",
              "    <tr>\n",
              "      <th>9</th>\n",
              "      <td>Firmicutes</td>\n",
              "      <td>10</td>\n",
              "      <td>162</td>\n",
              "      <td>3196</td>\n",
              "    </tr>\n",
              "    <tr>\n",
              "      <th>10</th>\n",
              "      <td>Firmicutes</td>\n",
              "      <td>11</td>\n",
              "      <td>372</td>\n",
              "      <td>32</td>\n",
              "    </tr>\n",
              "    <tr>\n",
              "      <th>11</th>\n",
              "      <td>Firmicutes</td>\n",
              "      <td>12</td>\n",
              "      <td>4255</td>\n",
              "      <td>4361</td>\n",
              "    </tr>\n",
              "    <tr>\n",
              "      <th>12</th>\n",
              "      <td>Firmicutes</td>\n",
              "      <td>13</td>\n",
              "      <td>107</td>\n",
              "      <td>1667</td>\n",
              "    </tr>\n",
              "    <tr>\n",
              "      <th>13</th>\n",
              "      <td>Firmicutes</td>\n",
              "      <td>14</td>\n",
              "      <td>96</td>\n",
              "      <td>223</td>\n",
              "    </tr>\n",
              "    <tr>\n",
              "      <th>14</th>\n",
              "      <td>Firmicutes</td>\n",
              "      <td>15</td>\n",
              "      <td>281</td>\n",
              "      <td>2377</td>\n",
              "    </tr>\n",
              "  </tbody>\n",
              "</table>\n",
              "</div>"
            ],
            "text/plain": [
              "         Taxon  Patient  Tissue  Stool\n",
              "0   Firmicutes        1     632    305\n",
              "1   Firmicutes        2     136   4182\n",
              "2   Firmicutes        3    1174    703\n",
              "3   Firmicutes        4     408   3946\n",
              "4   Firmicutes        5     831   8605\n",
              "5   Firmicutes        6     693     50\n",
              "6   Firmicutes        7     718    717\n",
              "7   Firmicutes        8     173     33\n",
              "8   Firmicutes        9     228     80\n",
              "9   Firmicutes       10     162   3196\n",
              "10  Firmicutes       11     372     32\n",
              "11  Firmicutes       12    4255   4361\n",
              "12  Firmicutes       13     107   1667\n",
              "13  Firmicutes       14      96    223\n",
              "14  Firmicutes       15     281   2377"
            ]
          },
          "metadata": {
            "tags": []
          },
          "execution_count": 4
        }
      ]
    },
    {
      "cell_type": "code",
      "metadata": {
        "colab": {
          "base_uri": "https://localhost:8080/"
        },
        "id": "gE4I0F12QR22",
        "outputId": "45496287-47af-4c5c-ee8e-79d63609ee97"
      },
      "source": [
        "mb_df.shape"
      ],
      "execution_count": 5,
      "outputs": [
        {
          "output_type": "execute_result",
          "data": {
            "text/plain": [
              "(75, 4)"
            ]
          },
          "metadata": {
            "tags": []
          },
          "execution_count": 5
        }
      ]
    },
    {
      "cell_type": "code",
      "metadata": {
        "colab": {
          "base_uri": "https://localhost:8080/"
        },
        "id": "R92oUynpQTkK",
        "outputId": "f4dc7f13-0bc0-4dab-ce5b-b879e5bc8f66"
      },
      "source": [
        "du_lieu_dinh_tinh = mb_df[\"Taxon\"]\n",
        "du_lieu_dinh_tinh[:5]"
      ],
      "execution_count": 6,
      "outputs": [
        {
          "output_type": "execute_result",
          "data": {
            "text/plain": [
              "0    Firmicutes\n",
              "1    Firmicutes\n",
              "2    Firmicutes\n",
              "3    Firmicutes\n",
              "4    Firmicutes\n",
              "Name: Taxon, dtype: object"
            ]
          },
          "metadata": {
            "tags": []
          },
          "execution_count": 6
        }
      ]
    },
    {
      "cell_type": "code",
      "metadata": {
        "colab": {
          "base_uri": "https://localhost:8080/"
        },
        "id": "ZIFkI_B1QU9N",
        "outputId": "79b899f4-042d-40b7-9f61-cb70519d958e"
      },
      "source": [
        "du_lieu_dinh_luong = mb_df[\"Patient\"]\n",
        "du_lieu_dinh_luong[-5:]"
      ],
      "execution_count": 7,
      "outputs": [
        {
          "output_type": "execute_result",
          "data": {
            "text/plain": [
              "70    11\n",
              "71    12\n",
              "72    13\n",
              "73    14\n",
              "74    15\n",
              "Name: Patient, dtype: int64"
            ]
          },
          "metadata": {
            "tags": []
          },
          "execution_count": 7
        }
      ]
    },
    {
      "cell_type": "code",
      "metadata": {
        "colab": {
          "base_uri": "https://localhost:8080/"
        },
        "id": "YNW6LoW_QVEP",
        "outputId": "2d282c3d-219d-4653-ab71-1988a0e8777e"
      },
      "source": [
        "taxon_series = mb_df.Taxon.copy()\n",
        "taxon_series[:5]"
      ],
      "execution_count": 8,
      "outputs": [
        {
          "output_type": "execute_result",
          "data": {
            "text/plain": [
              "0    Firmicutes\n",
              "1    Firmicutes\n",
              "2    Firmicutes\n",
              "3    Firmicutes\n",
              "4    Firmicutes\n",
              "Name: Taxon, dtype: object"
            ]
          },
          "metadata": {
            "tags": []
          },
          "execution_count": 8
        }
      ]
    },
    {
      "cell_type": "code",
      "metadata": {
        "colab": {
          "base_uri": "https://localhost:8080/"
        },
        "id": "0OdzjrzuQZOC",
        "outputId": "6d9a2016-2e56-4249-f4f0-4c6f2ef9593d"
      },
      "source": [
        "tissue_series = mb_df.Tissue.copy()\n",
        "tissue_series[:5]"
      ],
      "execution_count": 9,
      "outputs": [
        {
          "output_type": "execute_result",
          "data": {
            "text/plain": [
              "0     632\n",
              "1     136\n",
              "2    1174\n",
              "3     408\n",
              "4     831\n",
              "Name: Tissue, dtype: int64"
            ]
          },
          "metadata": {
            "tags": []
          },
          "execution_count": 9
        }
      ]
    },
    {
      "cell_type": "code",
      "metadata": {
        "colab": {
          "base_uri": "https://localhost:8080/"
        },
        "id": "ik18Mo4HQbJ0",
        "outputId": "7184c3ef-e296-403f-c3d0-f3f23a0b5f08"
      },
      "source": [
        "taxon_summary = pd.Series(mb_df.Taxon).value_counts()\n",
        "taxon_summary"
      ],
      "execution_count": 10,
      "outputs": [
        {
          "output_type": "execute_result",
          "data": {
            "text/plain": [
              "Other             15\n",
              "Proteobacteria    15\n",
              "Actinobacteria    15\n",
              "Firmicutes        15\n",
              "Bacteroidetes     15\n",
              "Name: Taxon, dtype: int64"
            ]
          },
          "metadata": {
            "tags": []
          },
          "execution_count": 10
        }
      ]
    },
    {
      "cell_type": "code",
      "metadata": {
        "colab": {
          "base_uri": "https://localhost:8080/"
        },
        "id": "68cAoLx6Qcld",
        "outputId": "0e64c350-20fb-458d-d3d8-81d81fb5bf7b"
      },
      "source": [
        "taxon_summary = taxon_series.value_counts()\n",
        "taxon_summary"
      ],
      "execution_count": 11,
      "outputs": [
        {
          "output_type": "execute_result",
          "data": {
            "text/plain": [
              "Other             15\n",
              "Proteobacteria    15\n",
              "Actinobacteria    15\n",
              "Firmicutes        15\n",
              "Bacteroidetes     15\n",
              "Name: Taxon, dtype: int64"
            ]
          },
          "metadata": {
            "tags": []
          },
          "execution_count": 11
        }
      ]
    },
    {
      "cell_type": "code",
      "metadata": {
        "colab": {
          "base_uri": "https://localhost:8080/"
        },
        "id": "ZAH6AAxcQd2d",
        "outputId": "112b96cd-1e83-4b07-eb88-eec136d3bb34"
      },
      "source": [
        "taxon_summary.index"
      ],
      "execution_count": 12,
      "outputs": [
        {
          "output_type": "execute_result",
          "data": {
            "text/plain": [
              "Index(['Other', 'Proteobacteria', 'Actinobacteria', 'Firmicutes',\n",
              "       'Bacteroidetes'],\n",
              "      dtype='object')"
            ]
          },
          "metadata": {
            "tags": []
          },
          "execution_count": 12
        }
      ]
    },
    {
      "cell_type": "code",
      "metadata": {
        "colab": {
          "base_uri": "https://localhost:8080/"
        },
        "id": "Pd0f4R-VQfU-",
        "outputId": "7e11799d-d04c-478c-e6cd-82e9576451dd"
      },
      "source": [
        "taxon_summary.values"
      ],
      "execution_count": 13,
      "outputs": [
        {
          "output_type": "execute_result",
          "data": {
            "text/plain": [
              "array([15, 15, 15, 15, 15])"
            ]
          },
          "metadata": {
            "tags": []
          },
          "execution_count": 13
        }
      ]
    },
    {
      "cell_type": "code",
      "metadata": {
        "colab": {
          "base_uri": "https://localhost:8080/",
          "height": 345
        },
        "id": "WNj_QeC2QgsR",
        "outputId": "5fd97645-b17d-461f-d799-56250a3641be"
      },
      "source": [
        "taxon_summary.plot(kind='bar')"
      ],
      "execution_count": 14,
      "outputs": [
        {
          "output_type": "execute_result",
          "data": {
            "text/plain": [
              "<matplotlib.axes._subplots.AxesSubplot at 0x7fcfdac4dc10>"
            ]
          },
          "metadata": {
            "tags": []
          },
          "execution_count": 14
        },
        {
          "output_type": "display_data",
          "data": {
            "image/png": "[encoded data removed]",
            "text/plain": [
              "<Figure size 432x288 with 1 Axes>"
            ]
          },
          "metadata": {
            "tags": [],
            "needs_background": "light"
          }
        }
      ]
    },
    {
      "cell_type": "code",
      "metadata": {
        "colab": {
          "base_uri": "https://localhost:8080/",
          "height": 345
        },
        "id": "ngGUh4WSQhdK",
        "outputId": "8065ff95-9281-40ee-e4b6-b3339ce2b5aa"
      },
      "source": [
        "mb_df[\"Taxon\"].value_counts().plot(kind='bar')"
      ],
      "execution_count": 15,
      "outputs": [
        {
          "output_type": "execute_result",
          "data": {
            "text/plain": [
              "<matplotlib.axes._subplots.AxesSubplot at 0x7fcfdab96a90>"
            ]
          },
          "metadata": {
            "tags": []
          },
          "execution_count": 15
        },
        {
          "output_type": "display_data",
          "data": {
            "image/png": "[encoded data removed]",
            "text/plain": [
              "<Figure size 432x288 with 1 Axes>"
            ]
          },
          "metadata": {
            "tags": [],
            "needs_background": "light"
          }
        }
      ]
    },
    {
      "cell_type": "code",
      "metadata": {
        "colab": {
          "base_uri": "https://localhost:8080/",
          "height": 328
        },
        "id": "mHN_4pOXQi28",
        "outputId": "c74fc364-e24a-464f-9c07-ce00611c042c"
      },
      "source": [
        "count = np.asarray(taxon_summary)\n",
        "ind= range(len(taxon_summary))\n",
        "#Vẽ bar graph\n",
        "taxon_summary.plot(kind='bar', color='skyblue')\n",
        "taxonsummary= range(len(taxon_summary))\n",
        "for x, y in zip(ind,count):\n",
        "    plt.text(x+0.02, y+0.05, '%d' % y, ha='center', va= 'bottom', color = '#FF0000')"
      ],
      "execution_count": 16,
      "outputs": [
        {
          "output_type": "display_data",
          "data": {
            "image/png": "[encoded data removed]",
            "text/plain": [
              "<Figure size 432x288 with 1 Axes>"
            ]
          },
          "metadata": {
            "tags": [],
            "needs_background": "light"
          }
        }
      ]
    },
    {
      "cell_type": "code",
      "metadata": {
        "colab": {
          "base_uri": "https://localhost:8080/"
        },
        "id": "djyiWoBzQkVQ",
        "outputId": "19832419-8e6d-4129-cc6b-8dd76565fa60"
      },
      "source": [
        "taxon_summary['Bacteroidetes'] = 150\n",
        "taxon_summary['Firmicutes'] = 270\n",
        "taxon_summary['Proteobacteria'] = 300\n",
        "taxon_summary['Actinobacteria'] = 60\n",
        "taxon_summary"
      ],
      "execution_count": 17,
      "outputs": [
        {
          "output_type": "execute_result",
          "data": {
            "text/plain": [
              "Other              15\n",
              "Proteobacteria    300\n",
              "Actinobacteria     60\n",
              "Firmicutes        270\n",
              "Bacteroidetes     150\n",
              "Name: Taxon, dtype: int64"
            ]
          },
          "metadata": {
            "tags": []
          },
          "execution_count": 17
        }
      ]
    },
    {
      "cell_type": "code",
      "metadata": {
        "colab": {
          "base_uri": "https://localhost:8080/"
        },
        "id": "nF4mfbRMQl0a",
        "outputId": "d767bd1f-5fa9-4aa5-9d63-c4f6fd8de066"
      },
      "source": [
        "count = np.asarray(taxon_summary)\n",
        "print(count)"
      ],
      "execution_count": 18,
      "outputs": [
        {
          "output_type": "stream",
          "text": [
            "[ 15 300  60 270 150]\n"
          ],
          "name": "stdout"
        }
      ]
    },
    {
      "cell_type": "code",
      "metadata": {
        "colab": {
          "base_uri": "https://localhost:8080/",
          "height": 345
        },
        "id": "HSgJNHcmQnIq",
        "outputId": "72c8ca8e-5cde-40e7-f0bc-2c888971fe9a"
      },
      "source": [
        "taxon_summary.plot(kind='bar')"
      ],
      "execution_count": 19,
      "outputs": [
        {
          "output_type": "execute_result",
          "data": {
            "text/plain": [
              "<matplotlib.axes._subplots.AxesSubplot at 0x7fcfda5ef910>"
            ]
          },
          "metadata": {
            "tags": []
          },
          "execution_count": 19
        },
        {
          "output_type": "display_data",
          "data": {
            "image/png": "[encoded data removed]",
            "text/plain": [
              "<Figure size 432x288 with 1 Axes>"
            ]
          },
          "metadata": {
            "tags": [],
            "needs_background": "light"
          }
        }
      ]
    },
    {
      "cell_type": "code",
      "metadata": {
        "colab": {
          "base_uri": "https://localhost:8080/",
          "height": 654
        },
        "id": "qRtJ_YsHQofh",
        "outputId": "803d0bbc-b0f0-4c58-af62-30774aefe7af"
      },
      "source": [
        "ind= range(len(taxon_summary))\n",
        "plt.figure(figsize=(20,10))\n",
        "#Vẽ bar graph\n",
        "taxon_summary.plot(kind='bar', color='orange')\n",
        "taxonsummary= range(len(taxon_summary))\n",
        "for x, y in zip(ind,count):\n",
        "    plt.text(x+0.02, y+0.05, '%d' % y, ha='center', va= 'bottom', color=\"r\", fontsize=20)"
      ],
      "execution_count": 20,
      "outputs": [
        {
          "output_type": "display_data",
          "data": {
            "image/png": "[encoded data removed]",
            "text/plain": [
              "<Figure size 1440x720 with 1 Axes>"
            ]
          },
          "metadata": {
            "tags": [],
            "needs_background": "light"
          }
        }
      ]
    },
    {
      "cell_type": "code",
      "metadata": {
        "colab": {
          "base_uri": "https://localhost:8080/"
        },
        "id": "On8XlrguQsco",
        "outputId": "8f41cede-5b2d-4f7a-eaa6-7d18bc63e5dd"
      },
      "source": [
        "taxon_summary.sort_values(ascending= False)"
      ],
      "execution_count": 21,
      "outputs": [
        {
          "output_type": "execute_result",
          "data": {
            "text/plain": [
              "Proteobacteria    300\n",
              "Firmicutes        270\n",
              "Bacteroidetes     150\n",
              "Actinobacteria     60\n",
              "Other              15\n",
              "Name: Taxon, dtype: int64"
            ]
          },
          "metadata": {
            "tags": []
          },
          "execution_count": 21
        }
      ]
    },
    {
      "cell_type": "code",
      "metadata": {
        "colab": {
          "base_uri": "https://localhost:8080/",
          "height": 345
        },
        "id": "lBJq11WwQtlA",
        "outputId": "b4e2c3b6-c296-4f8f-f403-f38ce86f7bb5"
      },
      "source": [
        "taxon_summary.plot(kind='bar')"
      ],
      "execution_count": 22,
      "outputs": [
        {
          "output_type": "execute_result",
          "data": {
            "text/plain": [
              "<matplotlib.axes._subplots.AxesSubplot at 0x7fcfda6518d0>"
            ]
          },
          "metadata": {
            "tags": []
          },
          "execution_count": 22
        },
        {
          "output_type": "display_data",
          "data": {
            "image/png": "[encoded data removed]",
            "text/plain": [
              "<Figure size 432x288 with 1 Axes>"
            ]
          },
          "metadata": {
            "tags": [],
            "needs_background": "light"
          }
        }
      ]
    },
    {
      "cell_type": "code",
      "metadata": {
        "colab": {
          "base_uri": "https://localhost:8080/",
          "height": 345
        },
        "id": "qSDycDvUQvOJ",
        "outputId": "56cccc61-252a-453c-f112-20071cc070c4"
      },
      "source": [
        "taxon_pareto = taxon_summary.sort_values(ascending= False)\n",
        "taxon_pareto.plot(kind = 'bar')"
      ],
      "execution_count": 23,
      "outputs": [
        {
          "output_type": "execute_result",
          "data": {
            "text/plain": [
              "<matplotlib.axes._subplots.AxesSubplot at 0x7fcfda5348d0>"
            ]
          },
          "metadata": {
            "tags": []
          },
          "execution_count": 23
        },
        {
          "output_type": "display_data",
          "data": {
            "image/png": "[encoded data removed]",
            "text/plain": [
              "<Figure size 432x288 with 1 Axes>"
            ]
          },
          "metadata": {
            "tags": [],
            "needs_background": "light"
          }
        }
      ]
    },
    {
      "cell_type": "code",
      "metadata": {
        "colab": {
          "base_uri": "https://localhost:8080/",
          "height": 282
        },
        "id": "NY9SrQVwQweH",
        "outputId": "b1fbb401-1581-44ad-d074-a923bb0c76c5"
      },
      "source": [
        "taxon_pareto.plot(kind = 'barh')"
      ],
      "execution_count": 24,
      "outputs": [
        {
          "output_type": "execute_result",
          "data": {
            "text/plain": [
              "<matplotlib.axes._subplots.AxesSubplot at 0x7fcfda54c150>"
            ]
          },
          "metadata": {
            "tags": []
          },
          "execution_count": 24
        },
        {
          "output_type": "display_data",
          "data": {
            "image/png": "[encoded data removed]",
            "text/plain": [
              "<Figure size 432x288 with 1 Axes>"
            ]
          },
          "metadata": {
            "tags": [],
            "needs_background": "light"
          }
        }
      ]
    },
    {
      "cell_type": "code",
      "metadata": {
        "colab": {
          "base_uri": "https://localhost:8080/",
          "height": 282
        },
        "id": "ufLlxzTWQyOQ",
        "outputId": "c3c63dd3-5d7d-45bc-962a-faa906bb584d"
      },
      "source": [
        "taxon_summary.plot(kind='barh')"
      ],
      "execution_count": 25,
      "outputs": [
        {
          "output_type": "execute_result",
          "data": {
            "text/plain": [
              "<matplotlib.axes._subplots.AxesSubplot at 0x7fcfda4bb490>"
            ]
          },
          "metadata": {
            "tags": []
          },
          "execution_count": 25
        },
        {
          "output_type": "display_data",
          "data": {
            "image/png": "[encoded data removed]",
            "text/plain": [
              "<Figure size 432x288 with 1 Axes>"
            ]
          },
          "metadata": {
            "tags": [],
            "needs_background": "light"
          }
        }
      ]
    },
    {
      "cell_type": "code",
      "metadata": {
        "colab": {
          "base_uri": "https://localhost:8080/",
          "height": 501
        },
        "id": "ft2im9GCQzhg",
        "outputId": "f321dca4-16df-45eb-a3bf-35287eeb579f"
      },
      "source": [
        "taxon_summary.plot(kind='bar', figsize=(8, 6))\n",
        "plt.xlabel(\"Vi khuẩn\", labelpad=14)\n",
        "plt.ylabel(\"Số lượng\", labelpad=14)\n",
        "plt.title(\"Số lượng các vi khuẩn\", y=1.02)"
      ],
      "execution_count": 26,
      "outputs": [
        {
          "output_type": "execute_result",
          "data": {
            "text/plain": [
              "Text(0.5, 1.02, 'Số lượng các vi khuẩn')"
            ]
          },
          "metadata": {
            "tags": []
          },
          "execution_count": 26
        },
        {
          "output_type": "display_data",
          "data": {
            "image/png": "[encoded data removed]",
            "text/plain": [
              "<Figure size 576x432 with 1 Axes>"
            ]
          },
          "metadata": {
            "tags": [],
            "needs_background": "light"
          }
        }
      ]
    },
    {
      "cell_type": "code",
      "metadata": {
        "colab": {
          "base_uri": "https://localhost:8080/",
          "height": 390
        },
        "id": "brl6bnuTQ1LY",
        "outputId": "a18197e7-5d8e-4f63-c141-90ca1a2a65a1"
      },
      "source": [
        "import seaborn as sns\n",
        "mycolors = 'rgbkymc'  #red, green, blue, black, etc.\n",
        "taxon_pareto.plot(kind = 'bar',  color=list(mycolors))\n",
        "plt.xlabel(\"Vi khuẩn\", labelpad=14)\n",
        "plt.ylabel(\"Số lượng\", labelpad=14)\n",
        "plt.title(\"Số lượng các vi khuẩn\", y=1.02)"
      ],
      "execution_count": 27,
      "outputs": [
        {
          "output_type": "execute_result",
          "data": {
            "text/plain": [
              "Text(0.5, 1.02, 'Số lượng các vi khuẩn')"
            ]
          },
          "metadata": {
            "tags": []
          },
          "execution_count": 27
        },
        {
          "output_type": "display_data",
          "data": {
            "image/png": "[encoded data removed]",
            "text/plain": [
              "<Figure size 432x288 with 1 Axes>"
            ]
          },
          "metadata": {
            "tags": [],
            "needs_background": "light"
          }
        }
      ]
    }
  ]
}