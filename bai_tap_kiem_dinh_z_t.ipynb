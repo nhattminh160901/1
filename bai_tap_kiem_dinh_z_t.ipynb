{
  "nbformat": 4,
  "nbformat_minor": 0,
  "metadata": {
    "colab": {
      "name": "Untitled1.ipynb",
      "provenance": [],
      "authorship_tag": "ABX9TyOXVC+lOsLqqktTyQkfaaLG",
      "include_colab_link": true
    },
    "kernelspec": {
      "name": "python3",
      "display_name": "Python 3"
    },
    "language_info": {
      "name": "python"
    }
  },
  "cells": [
    {
      "cell_type": "markdown",
      "metadata": {
        "id": "view-in-github",
        "colab_type": "text"
      },
      "source": [
        "<a href=\"https://colab.research.google.com/github/nhattminh160901/1/blob/main/bai_tap_kiem_dinh_z_t.ipynb\" target=\"_parent\"><img src=\"https://colab.research.google.com/assets/colab-badge.svg\" alt=\"Open In Colab\"/></a>"
      ]
    },
    {
      "cell_type": "code",
      "metadata": {
        "id": "ULS2A8CwUqER"
      },
      "source": [
        "import numpy as np\n",
        "import statistics as st\n",
        "import pandas as pd\n",
        "import random\n",
        "from scipy import stats\n",
        "from statsmodels.stats.weightstats import ztest\n",
        "import warnings\n",
        "import matplotlib.pyplot as plt\n",
        "import seaborn as sns\n",
        "%matplotlib inline"
      ],
      "execution_count": 71,
      "outputs": []
    },
    {
      "cell_type": "code",
      "metadata": {
        "colab": {
          "base_uri": "https://localhost:8080/"
        },
        "id": "5XjtU0g0UrS5",
        "outputId": "f65c1392-5da2-452b-e727-d8a66e789f92"
      },
      "source": [
        "# sinh ngẫu nhiên một mẫu 100 chai, có tb mẫu là 1.99, độ lệch chuẩn là 0.05\n",
        "sp = np.random.normal(1.99, 0.05, 100)\n",
        "print(sp[:10])\n",
        "#xác định các thông số \n",
        "null_mean = 2\n",
        "alpha = 0.1\n",
        "#Kiểm định z\n",
        "ztest_Score, p_value= ztest(sp, value = null_mean, alternative='larger')\n",
        "if(p_value <  alpha):\n",
        "  print(\"Có bằng chứng để bác bỏ giả thuyết H0\")\n",
        "else:\n",
        "  print(\"Chưa có bằng chứng để bác bỏ giả thuyết H0\")\n",
        "#tính khoảng tin cậy \n",
        "ktc = stats.t.interval(0.9, len(sp)-1, null_mean, scale = stats.sem(sp))\n",
        "print(\"Khoảng tin cậy 90% của giá trị trung bình trong chai 2 lít là\", ktc)"
      ],
      "execution_count": 72,
      "outputs": [
        {
          "output_type": "stream",
          "text": [
            "[1.99704719 1.83623575 1.98876789 1.89718642 2.03425603 1.9766806\n",
            " 2.05491199 1.96678242 1.95317812 1.99649351]\n",
            "Chưa có bằng chứng để bác bỏ giả thuyết H0\n",
            "Khoảng tin cậy 90% của giá trị trung bình trong chai 2 lít là (1.9912302936135293, 2.0087697063864707)\n"
          ],
          "name": "stdout"
        }
      ]
    },
    {
      "cell_type": "code",
      "metadata": {
        "colab": {
          "base_uri": "https://localhost:8080/"
        },
        "id": "GZbWaxOtUsYZ",
        "outputId": "cfaf44b2-1cff-457d-fee8-e7bdfbd73bcf"
      },
      "source": [
        "times = [3.6, 4.2, 4.0, 3.5, 3.8, 3.1]\n",
        "mean =np.mean(times)\n",
        "std = np.std(times)\n",
        "print(\"mean = \", mean, \"    \",\"std = \", std)\n",
        "ktc = stats.t.interval(0.9, len(times)-1, mean, scale = stats.sem(times))\n",
        "print(\"Khoảng tin cậy 90% của thời gian thực hiện nhiệm vụ trung bình của tổng thể là\", ktc)"
      ],
      "execution_count": 73,
      "outputs": [
        {
          "output_type": "stream",
          "text": [
            "mean =  3.7000000000000006      std =  0.3559026084010437\n",
            "Khoảng tin cậy 90% của thời gian thực hiện nhiệm vụ trung bình của tổng thể là (3.3792758632100677, 4.020724136789934)\n"
          ],
          "name": "stdout"
        }
      ]
    },
    {
      "cell_type": "code",
      "metadata": {
        "colab": {
          "base_uri": "https://localhost:8080/"
        },
        "id": "B5u3mD0NUs8O",
        "outputId": "09b807f0-065b-40f7-9a3b-e772bbe5d2b1"
      },
      "source": [
        "#xác định thông số\n",
        "alpha1 = 0.05\n",
        "mean1 = 368\n",
        "\n",
        "#Sinh ngẫu nhiên một mẫu 25 phần tử có trung bình mẫu là 372.5, độ lệch chuẩn là 25\n",
        "sp1 = np.random.normal(372.5, 25, 25)\n",
        "#Kiểm định t\n",
        "ttest_Score, p_value = stats.ttest_1samp(sp1, mean1)\n",
        "print('t = ',ttest_Score,', p = ',p_value)\n",
        "if(p_value <  alpha1/2):\n",
        "  print(\"Có bằng chứng để bác bỏ giả thuyết H0\")\n",
        "else:\n",
        "  print(\"Chưa có bằng chứng để bác bỏ giả thuyết H0\")"
      ],
      "execution_count": 74,
      "outputs": [
        {
          "output_type": "stream",
          "text": [
            "t =  0.3995860737489695 , p =  0.6929953101527435\n",
            "Chưa có bằng chứng để bác bỏ giả thuyết H0\n"
          ],
          "name": "stdout"
        }
      ]
    },
    {
      "cell_type": "code",
      "metadata": {
        "colab": {
          "base_uri": "https://localhost:8080/"
        },
        "id": "no5nGL1zUuaE",
        "outputId": "a47a479b-9b31-4e2e-e5da-7dceb67d4b42"
      },
      "source": [
        "# sinh ngẫu nhiên một mẫu 36 , có tb mẫu là 70 , độ lệch chuẩn là 3.5\n",
        "sp2 = np.random.normal(70, 3.5, 36)\n",
        "print(sp[:10])\n",
        "#xác định các thông số \n",
        "null_mean = 69.7\n",
        "alpha2 = 0.05\n",
        "#Kiểm định z\n",
        "ztest_Score, p_value= ztest(sp2, value = null_mean, alternative='larger')\n",
        "if(p_value <  alpha2):\n",
        "  print(\"Có bằng chứng để bác bỏ giả thuyết H0\")\n",
        "else:\n",
        "  print(\"Chưa có bằng chứng để bác bỏ giả thuyết H0\")"
      ],
      "execution_count": 75,
      "outputs": [
        {
          "output_type": "stream",
          "text": [
            "[1.99704719 1.83623575 1.98876789 1.89718642 2.03425603 1.9766806\n",
            " 2.05491199 1.96678242 1.95317812 1.99649351]\n",
            "Chưa có bằng chứng để bác bỏ giả thuyết H0\n"
          ],
          "name": "stdout"
        }
      ]
    },
    {
      "cell_type": "code",
      "metadata": {
        "colab": {
          "base_uri": "https://localhost:8080/"
        },
        "id": "QWKF5Uk6UwIU",
        "outputId": "9900bc40-f16b-4086-d29b-7c1d8fd6a90e"
      },
      "source": [
        "alpha2 = 0.05\n",
        "mean2 = 368\n",
        "\n",
        "#Sinh ngẫu nhiên một mẫu 25 phần tử có trung bình mẫu là 372.5, độ lệch chuẩn là 25\n",
        "sp5 = np.random.normal(372.5, 25, 25)\n",
        "#Kiểm định t\n",
        "\n",
        "ttest_Score, p_value = stats.ttest_1samp(sp2, mean2)\n",
        "\n",
        "print('t = ',ttest_Score,', p = ',p_value)\n",
        "if(p_value <  alpha2) and (ttest_Score > 0) :\n",
        "  print(\"Có bằng chứng để bác bỏ giả thuyết H0\")\n",
        "else:\n",
        "  print(\"Chưa có bằng chứng để bác bỏ giả thuyết H0\")"
      ],
      "execution_count": 76,
      "outputs": [
        {
          "output_type": "stream",
          "text": [
            "t =  -555.0533566874873 , p =  1.2457744811415428e-70\n",
            "Chưa có bằng chứng để bác bỏ giả thuyết H0\n"
          ],
          "name": "stdout"
        }
      ]
    },
    {
      "cell_type": "code",
      "metadata": {
        "colab": {
          "base_uri": "https://localhost:8080/"
        },
        "id": "EOxaL8_sUxov",
        "outputId": "e9ec5bc0-feb6-4bef-eb8c-fb2f25d09651"
      },
      "source": [
        "alpha3 = 0.01\n",
        "mean3 = 32\n",
        "#sinh ngẫu nhiên một mẫu 60 phần tử có trung bình mẫu là 30.7 độ lệch chuẩn là 3.8\n",
        "sp3 = np.random.normal(30.7,3.8,60)\n",
        "#kiểm định z\n",
        "ztest_Score, p_value= ztest(sp3, value = mean3, alternative='larger')\n",
        "print('z = ', ztest_Score, '; p = ', p_value)\n",
        "if (p_value <  alpha3)and (ztest_Score < 0):\n",
        "  print(\"Có bằng chứng để bác bỏ giả thuyết H0\")\n",
        "else:\n",
        "  print(\"Chưa có bằng chứng để bác bỏ giả thuyết H0\")"
      ],
      "execution_count": 77,
      "outputs": [
        {
          "output_type": "stream",
          "text": [
            "z =  -2.7731827909183764 ; p =  0.9972244534964867\n",
            "Chưa có bằng chứng để bác bỏ giả thuyết H0\n"
          ],
          "name": "stdout"
        }
      ]
    },
    {
      "cell_type": "code",
      "metadata": {
        "colab": {
          "base_uri": "https://localhost:8080/"
        },
        "id": "3nxiXp8gUzNg",
        "outputId": "1179a304-2d96-41f4-d4dd-9483e913e366"
      },
      "source": [
        "mean4 = 368\n",
        "#Sinh ngẫu nhiên một mẫu 25 phần tử có trung bình mẫu là 372.5, độ lệch chuẩn là 15\n",
        "sp4 = np.random.normal(372.5, 15, 25)\n",
        "#Kiểm định t\n",
        "ttest_Score, p_value = stats.ttest_1samp(sp4, mean4)\n",
        "print('p_value = ',p_value)"
      ],
      "execution_count": 78,
      "outputs": [
        {
          "output_type": "stream",
          "text": [
            "p_value =  0.755782491106147\n"
          ],
          "name": "stdout"
        }
      ]
    },
    {
      "cell_type": "code",
      "metadata": {
        "colab": {
          "base_uri": "https://localhost:8080/"
        },
        "id": "yUNhrtliU1lL",
        "outputId": "13596269-d4f8-45f7-88a3-ada139f6dd11"
      },
      "source": [
        "mean5 = 368\n",
        "#Sinh ngẫu nhiên một mẫu 25 phần tử có trung bình mẫu là 372.5, độ lệch chuẩn là 15\n",
        "sp5 = np.random.normal(372.5, 15, 25)\n",
        "#Kiểm định t\n",
        "ttest_Score, p_value = stats.ttest_1samp(sp5, mean5)\n",
        "print('p_value = ',p_value)"
      ],
      "execution_count": 79,
      "outputs": [
        {
          "output_type": "stream",
          "text": [
            "p_value =  0.23936265133739487\n"
          ],
          "name": "stdout"
        }
      ]
    },
    {
      "cell_type": "code",
      "metadata": {
        "colab": {
          "base_uri": "https://localhost:8080/"
        },
        "id": "XG9p1a5tU3T5",
        "outputId": "f6dbced3-ed86-4f75-bb03-5dd586f46344"
      },
      "source": [
        "mean6 = 32\n",
        "#Sinh ngẫu nhiên một mẫu 60 phần tử có trung bình mẫu là 30.7, độ lệch chuẩn là 3.8\n",
        "sp6 = np.random.normal(30.7, 3.8, 60)\n",
        "#Kiểm định t\n",
        "ttest_Score, p_value = stats.ttest_1samp(sp6, mean6)\n",
        "print('p_value = ',p_value)"
      ],
      "execution_count": 80,
      "outputs": [
        {
          "output_type": "stream",
          "text": [
            "p_value =  0.012008698898237607\n"
          ],
          "name": "stdout"
        }
      ]
    },
    {
      "cell_type": "code",
      "metadata": {
        "colab": {
          "base_uri": "https://localhost:8080/"
        },
        "id": "t2ToeNaWU4oF",
        "outputId": "06f86447-26d2-40d1-aa8d-ae0b3fb188d5"
      },
      "source": [
        "sp7 = np.random.normal(37.5, 12,36 )\n",
        "#xác định các thông số \n",
        "null_mean7 = 368\n",
        "alpha7 = 0.05\n",
        "#Kiểm định z\n",
        "ztest_Score, p_value= ztest(sp7, value = null_mean7, alternative='two-sided')\n",
        "print('z = ', ztest_Score, '; p = ', p_value)\n",
        "if(p_value <  alpha7):\n",
        "  print(\"Có bằng chứng để bác bỏ giả thuyết H0\")\n",
        "else:\n",
        "  print(\"Chưa có bằng chứng để bác bỏ giả thuyết H0\")"
      ],
      "execution_count": 81,
      "outputs": [
        {
          "output_type": "stream",
          "text": [
            "z =  -193.2372850978267 ; p =  0.0\n",
            "Có bằng chứng để bác bỏ giả thuyết H0\n"
          ],
          "name": "stdout"
        }
      ]
    },
    {
      "cell_type": "code",
      "metadata": {
        "colab": {
          "base_uri": "https://localhost:8080/"
        },
        "id": "p-8SuXOzU58e",
        "outputId": "70820cdb-97ad-4216-a4d1-fb14b052a564"
      },
      "source": [
        "sp8 = np.random.normal(3.238, 0.117, 64)\n",
        "mean8 = 3.25\n",
        "alpha8 = 0.01\n",
        "ztest_Score, p_value1= ztest(sp8, value = mean8, alternative='larger')\n",
        "print('z = ', ztest_Score, '; p = ', p_value)\n",
        "if(p_value1 <  alpha8/2):\n",
        "  print(\"Có bằng chứng để bác bỏ giả thuyết H0\")\n",
        "else:\n",
        "  print(\"Chưa có bằng chứng để bác bỏ giả thuyết H0\")"
      ],
      "execution_count": 82,
      "outputs": [
        {
          "output_type": "stream",
          "text": [
            "z =  -1.687976324851668 ; p =  0.0\n",
            "Chưa có bằng chứng để bác bỏ giả thuyết H0\n"
          ],
          "name": "stdout"
        }
      ]
    },
    {
      "cell_type": "code",
      "metadata": {
        "id": "EennxoIMU7Og",
        "outputId": "5d98f23b-e25f-4077-de18-85ac4aac5806",
        "colab": {
          "base_uri": "https://localhost:8080/"
        }
      },
      "source": [
        "sp9 = np.random.normal(138.47, 2.66, 20)\n",
        "mean9 = 140\n",
        "alpha9 = 0.05\n",
        "#Kiểm định t\n",
        "ttest_Score, p_value = stats.ttest_1samp(sp9, mean9)\n",
        "print('t = ',ttest_Score,', p = ',p_value)\n",
        "if(p_value <  alpha9) and (ttest_Score>0):\n",
        "  print(\"Có bằng chứng để bác bỏ giả thuyết H0\")\n",
        "else:\n",
        "  print(\"Chưa có bằng chứng để bác bỏ giả thuyết H0\")"
      ],
      "execution_count": 83,
      "outputs": [
        {
          "output_type": "stream",
          "text": [
            "t =  -3.0204710394647623 , p =  0.007035267476135708\n",
            "Chưa có bằng chứng để bác bỏ giả thuyết H0\n"
          ],
          "name": "stdout"
        }
      ]
    },
    {
      "cell_type": "code",
      "metadata": {
        "id": "F48QlmAIU8Vw",
        "outputId": "ddae5cb3-1d6f-46d1-eac9-c22a71937fb3",
        "colab": {
          "base_uri": "https://localhost:8080/"
        }
      },
      "source": [
        "sp10 = [8, 11, 0, 4, 7, 8, 10, 5, 8, 3]\n",
        "mean10 = np.mean(sp9)\n",
        "alpha10 = 0.05\n",
        "#Kiểm định t\n",
        "ttest_Score, p_value = stats.ttest_1samp(sp10, mean10)\n",
        "print('t = ',ttest_Score,', p = ',p_value)\n",
        "if(p_value <  alpha10) and (ttest_Score > 0):\n",
        "  print(\"Có bằng chứng để bác bỏ giả thuyết H0\")\n",
        "else:\n",
        "  print(\"Chưa có bằng chứng để bác bỏ giả thuyết H0\")"
      ],
      "execution_count": 84,
      "outputs": [
        {
          "output_type": "stream",
          "text": [
            "t =  -123.64314332440144 , p =  7.521333718579862e-16\n",
            "Chưa có bằng chứng để bác bỏ giả thuyết H0\n"
          ],
          "name": "stdout"
        }
      ]
    }
  ]
}