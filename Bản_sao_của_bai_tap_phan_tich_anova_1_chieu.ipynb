{
  "nbformat": 4,
  "nbformat_minor": 0,
  "metadata": {
    "kernelspec": {
      "display_name": "Python 3",
      "language": "python",
      "name": "python3"
    },
    "language_info": {
      "codemirror_mode": {
        "name": "ipython",
        "version": 3
      },
      "file_extension": ".py",
      "mimetype": "text/x-python",
      "name": "python",
      "nbconvert_exporter": "python",
      "pygments_lexer": "ipython3",
      "version": "3.7.3"
    },
    "colab": {
      "name": "Bản sao của bai-tap-phan-tich-anova-1-chieu.ipynb",
      "provenance": [],
      "include_colab_link": true
    }
  },
  "cells": [
    {
      "cell_type": "markdown",
      "metadata": {
        "id": "view-in-github",
        "colab_type": "text"
      },
      "source": [
        "<a href=\"https://colab.research.google.com/github/nhattminh160901/1/blob/main/B%E1%BA%A3n_sao_c%E1%BB%A7a_bai_tap_phan_tich_anova_1_chieu.ipynb\" target=\"_parent\"><img src=\"https://colab.research.google.com/assets/colab-badge.svg\" alt=\"Open In Colab\"/></a>"
      ]
    },
    {
      "cell_type": "markdown",
      "metadata": {
        "id": "Tl-a7csEoX2O"
      },
      "source": [
        "Hãy sử dụng các tập dữ liệu sau và tiến hành phân tích ANOVA 1 chiều\n",
        "\n",
        "- [Excavation Depth and Archaeology](https://college.cengage.com/mathematics/brase/understandable_statistics/7e/students/datasets/owan/frames/owan01.html)\n",
        "- [Apple Orchard Experiment](https://college.cengage.com/mathematics/brase/understandable_statistics/7e/students/datasets/owan/frames/owan02.html)\n",
        "- [Red Dye Number 40](https://college.cengage.com/mathematics/brase/understandable_statistics/7e/students/datasets/owan/frames/owan03.html)\n",
        "- [Business Startup Costs](https://college.cengage.com/mathematics/brase/understandable_statistics/7e/students/datasets/owan/frames/owan04.html)\n",
        "- [Weights of Football Players](https://college.cengage.com/mathematics/brase/understandable_statistics/7e/students/datasets/owan/frames/owan05.html)"
      ]
    },
    {
      "cell_type": "code",
      "metadata": {
        "id": "V409AHgwoX2Q"
      },
      "source": [
        "import pandas as pd\n",
        "from scipy import stats"
      ],
      "execution_count": 1,
      "outputs": []
    },
    {
      "cell_type": "code",
      "metadata": {
        "id": "p5tiKXxMoX2R"
      },
      "source": [
        "class projectAnova:\n",
        "    def __init__(self,data):\n",
        "        self.data = data\n",
        "        self.samples = []\n",
        "        for i in data.columns:\n",
        "            self.samples.append(data[i].dropna())\n",
        "    #kiem tra su phan phoi chuan\n",
        "    def shapiro_test(self):\n",
        "        for (stt, sample) in enumerate(self.samples):\n",
        "            pv_s = stats.shapiro(sample)[1]\n",
        "            if pv_s > 0.05:\n",
        "                print(f'Mẫu {stt} tuân theo phân phối chuẩn')\n",
        "            else:\n",
        "                print(f'Mẫu {stt} không tuân theo phân phối chuẩn')\n",
        "    #kiem tra su khac biet cua phuong sai\n",
        "    def levene_test(self):\n",
        "        pv_l = stats.levene(*self.samples)[1]\n",
        "        if pv_l > 0.05:\n",
        "            print('Phương sai bằng nhau')\n",
        "        else:\n",
        "            print('Có ít nhất một cặp Phương sai không bằng nhau')\n",
        "    #anova test\n",
        "    def anova_test(self):\n",
        "        pv_a = stats.f_oneway(*self.samples)[1]\n",
        "        if pv_a > 0.05:\n",
        "            print('các giá trị trung bình bằng nhau')\n",
        "        else:\n",
        "            print('Có tối thiểu một cặp giá trị trung bình có giá trị khác nhau')"
      ],
      "execution_count": 3,
      "outputs": []
    }
  ]
}