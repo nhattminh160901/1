{
  "nbformat": 4,
  "nbformat_minor": 0,
  "metadata": {
    "kernelspec": {
      "display_name": "Python 3",
      "language": "python",
      "name": "python3"
    },
    "language_info": {
      "codemirror_mode": {
        "name": "ipython",
        "version": 3
      },
      "file_extension": ".py",
      "mimetype": "text/x-python",
      "name": "python",
      "nbconvert_exporter": "python",
      "pygments_lexer": "ipython3",
      "version": "3.7.3"
    },
    "colab": {
      "name": "Bản sao của bai-tap-pandas-series.ipynb",
      "provenance": [],
      "include_colab_link": true
    }
  },
  "cells": [
    {
      "cell_type": "markdown",
      "metadata": {
        "id": "view-in-github",
        "colab_type": "text"
      },
      "source": [
        "<a href=\"https://colab.research.google.com/github/nhattminh160901/1/blob/main/bai_tap_pandas_series.ipynb\" target=\"_parent\"><img src=\"https://colab.research.google.com/assets/colab-badge.svg\" alt=\"Open In Colab\"/></a>"
      ]
    },
    {
      "cell_type": "markdown",
      "metadata": {
        "id": "NqF1koyJNjfG"
      },
      "source": [
        "Câu 1: Hãy tạo 1 đối tượng kiểu Series có tối thiểu 10 phần tử (kiểu số) với giá trị tùy ý thích của bạn. \n",
        "       In giá trị của Series đó ra màn hình"
      ]
    },
    {
      "cell_type": "code",
      "metadata": {
        "id": "BEjYo3fkNjfJ",
        "colab": {
          "base_uri": "https://localhost:8080/"
        },
        "outputId": "5f872466-9429-4607-c378-f98e4338d7f4"
      },
      "source": [
        "import numpy as np\n",
        "import pandas as pd\n",
        "S = pd.Series(np.random.randint(100,size = 10))\n",
        "S"
      ],
      "execution_count": 1,
      "outputs": [
        {
          "output_type": "execute_result",
          "data": {
            "text/plain": [
              "0     5\n",
              "1    60\n",
              "2    32\n",
              "3    48\n",
              "4    99\n",
              "5    83\n",
              "6    43\n",
              "7    51\n",
              "8    60\n",
              "9    84\n",
              "dtype: int64"
            ]
          },
          "metadata": {
            "tags": []
          },
          "execution_count": 1
        }
      ]
    },
    {
      "cell_type": "markdown",
      "metadata": {
        "id": "73Ann4pZNjfJ"
      },
      "source": [
        "Câu 2: Hãy tạo 1 đối tượng kiểu Series với giá trị khởi tạo hình thành từ dữ liệu kiểu Dictionary. In kết quả ra màn hình"
      ]
    },
    {
      "cell_type": "code",
      "metadata": {
        "id": "KDKIrXE4NjfK",
        "colab": {
          "base_uri": "https://localhost:8080/"
        },
        "outputId": "9b4820e7-10e9-4411-e8d1-3a24899af18d"
      },
      "source": [
        "dict_1 = {'tên':'Minh', 'tuổi': 20, 'công việc': 'sinh viên', 'lương': '1 tỷ', 'đi xe': 'porsche'}\n",
        "D = pd.Series(dict_1)\n",
        "D"
      ],
      "execution_count": 4,
      "outputs": [
        {
          "output_type": "execute_result",
          "data": {
            "text/plain": [
              "tên               Minh\n",
              "tuổi                20\n",
              "công việc    sinh viên\n",
              "lương             1 tỷ\n",
              "đi xe          porsche\n",
              "dtype: object"
            ]
          },
          "metadata": {
            "tags": []
          },
          "execution_count": 4
        }
      ]
    },
    {
      "cell_type": "markdown",
      "metadata": {
        "id": "9Zd36MByNjfK"
      },
      "source": [
        "Câu 3: Sử dụng series ở câu 1, hãy thay đổi giá trị của cột index từ kiểu số theo kiểu ký tự với giá trị do bạn tự xác định."
      ]
    },
    {
      "cell_type": "code",
      "metadata": {
        "id": "wXxPbciWNjfK",
        "colab": {
          "base_uri": "https://localhost:8080/"
        },
        "outputId": "c6ce847c-1b78-4f01-be92-ad87808cb67c"
      },
      "source": [
        "\n",
        "S_id = []\n",
        "for i in S.index:\n",
        "    S_id.append(f'so thu {i}')\n",
        "S_2 = pd.Series(S.values, index=S_id)\n",
        "S_2"
      ],
      "execution_count": 7,
      "outputs": [
        {
          "output_type": "execute_result",
          "data": {
            "text/plain": [
              "so thu 0     5\n",
              "so thu 1    60\n",
              "so thu 2    32\n",
              "so thu 3    48\n",
              "so thu 4    99\n",
              "so thu 5    83\n",
              "so thu 6    43\n",
              "so thu 7    51\n",
              "so thu 8    60\n",
              "so thu 9    84\n",
              "dtype: int64"
            ]
          },
          "metadata": {
            "tags": []
          },
          "execution_count": 7
        }
      ]
    },
    {
      "cell_type": "markdown",
      "metadata": {
        "id": "Z3WP0OC4NjfL"
      },
      "source": [
        "Câu 4: Sử dụng series ở câu 2, hãy truy cập đến phần tử thứ 5 và in ra màn hình"
      ]
    },
    {
      "cell_type": "code",
      "metadata": {
        "id": "Htn8osKGNjfL",
        "colab": {
          "base_uri": "https://localhost:8080/"
        },
        "outputId": "bffa1c34-91ff-41be-d2d2-f1c4998d07b0"
      },
      "source": [
        "print(D[4])"
      ],
      "execution_count": 8,
      "outputs": [
        {
          "output_type": "stream",
          "text": [
            "porsche\n"
          ],
          "name": "stdout"
        }
      ]
    },
    {
      "cell_type": "markdown",
      "metadata": {
        "id": "CJxVE3uHNjfM"
      },
      "source": [
        "Câu 5: Sử dụng series ở câu 3, hãy truy cập đến 1 phần tử dựa theo chỉ số kiểu ký tự do bạn lựa chọn và in ra màn hình"
      ]
    },
    {
      "cell_type": "code",
      "metadata": {
        "id": "J5cGy0mENjfN",
        "colab": {
          "base_uri": "https://localhost:8080/"
        },
        "outputId": "391716ef-4c64-4c92-a85b-ee1e7e566612"
      },
      "source": [
        "print(S_2['so thu 2'])"
      ],
      "execution_count": 9,
      "outputs": [
        {
          "output_type": "stream",
          "text": [
            "32\n"
          ],
          "name": "stdout"
        }
      ]
    },
    {
      "cell_type": "markdown",
      "metadata": {
        "id": "oRqISfG3NjfN"
      },
      "source": [
        "Câu 6: Sử dụng series ở câu 3, hãy tìm ra tính chất đặc thù trong các chỉ số kiểu kí tự, thực hiện vòng lặp for duyệt trên các chỉ mục kiểu kí tự này để lọc ra những phần tử thỏa mãn điều kiện và in ra màn hình"
      ]
    },
    {
      "cell_type": "code",
      "metadata": {
        "id": "ohrNjXacNjfN",
        "colab": {
          "base_uri": "https://localhost:8080/"
        },
        "outputId": "7bedc1c0-3c5c-40a9-a227-77087e945ab3"
      },
      "source": [
        "#Lấy các số thứ (0-4)\n",
        "S_2[[int(name[-1]) <4 for name in S_2.index]]"
      ],
      "execution_count": 10,
      "outputs": [
        {
          "output_type": "execute_result",
          "data": {
            "text/plain": [
              "so thu 0     5\n",
              "so thu 1    60\n",
              "so thu 2    32\n",
              "so thu 3    48\n",
              "dtype: int64"
            ]
          },
          "metadata": {
            "tags": []
          },
          "execution_count": 10
        }
      ]
    },
    {
      "cell_type": "markdown",
      "metadata": {
        "id": "fpOV-YX9NjfO"
      },
      "source": [
        "Câu 7: Sử dụng series ở câu 1, hãy đổi tên cột index thành 'STT' và đặt tên cho series là 'Gia_tri'. In kết quả ra màn hình "
      ]
    },
    {
      "cell_type": "code",
      "metadata": {
        "id": "rJjxP1kgNjfO",
        "colab": {
          "base_uri": "https://localhost:8080/"
        },
        "outputId": "2f3a6ab5-926d-40fe-b7d1-9bafc9a344c4"
      },
      "source": [
        "S.index.name = 'STT'\n",
        "S.name = 'Gia_tri'\n",
        "S"
      ],
      "execution_count": 11,
      "outputs": [
        {
          "output_type": "execute_result",
          "data": {
            "text/plain": [
              "STT\n",
              "0     5\n",
              "1    60\n",
              "2    32\n",
              "3    48\n",
              "4    99\n",
              "5    83\n",
              "6    43\n",
              "7    51\n",
              "8    60\n",
              "9    84\n",
              "Name: Gia_tri, dtype: int64"
            ]
          },
          "metadata": {
            "tags": []
          },
          "execution_count": 11
        }
      ]
    },
    {
      "cell_type": "markdown",
      "metadata": {
        "id": "j4cUJ-vlNjfO"
      },
      "source": [
        "Câu 8: Hãy áp dụng hàm logarith của gói numpy với series ở câu 1 và in kết quả ra màn hình"
      ]
    },
    {
      "cell_type": "code",
      "metadata": {
        "id": "IwaX7InJNjfO",
        "colab": {
          "base_uri": "https://localhost:8080/"
        },
        "outputId": "9465dad0-6b23-4547-e119-dd1b92e72010"
      },
      "source": [
        "S_log = pd.Series([np.log(gt) for gt in S.values])\n",
        "S_log.name = 'logarith'\n",
        "S_log"
      ],
      "execution_count": 12,
      "outputs": [
        {
          "output_type": "execute_result",
          "data": {
            "text/plain": [
              "0    1.609438\n",
              "1    4.094345\n",
              "2    3.465736\n",
              "3    3.871201\n",
              "4    4.595120\n",
              "5    4.418841\n",
              "6    3.761200\n",
              "7    3.931826\n",
              "8    4.094345\n",
              "9    4.430817\n",
              "Name: logarith, dtype: float64"
            ]
          },
          "metadata": {
            "tags": []
          },
          "execution_count": 12
        }
      ]
    },
    {
      "cell_type": "markdown",
      "metadata": {
        "id": "JHvUJIdTNjfP"
      },
      "source": [
        "Câu 9: Lọc các giá trị của series 1 > 15 và in ra màn hình"
      ]
    },
    {
      "cell_type": "code",
      "metadata": {
        "id": "SOPFDHoJNjfP",
        "colab": {
          "base_uri": "https://localhost:8080/"
        },
        "outputId": "7fe8cae7-f1e5-41ab-8bfb-d1d940ecb4c0"
      },
      "source": [
        "S[S>15]"
      ],
      "execution_count": 13,
      "outputs": [
        {
          "output_type": "execute_result",
          "data": {
            "text/plain": [
              "STT\n",
              "1    60\n",
              "2    32\n",
              "3    48\n",
              "4    99\n",
              "5    83\n",
              "6    43\n",
              "7    51\n",
              "8    60\n",
              "9    84\n",
              "Name: Gia_tri, dtype: int64"
            ]
          },
          "metadata": {
            "tags": []
          },
          "execution_count": 13
        }
      ]
    }
  ]
}