{
  "nbformat": 4,
  "nbformat_minor": 0,
  "metadata": {
    "colab": {
      "name": "Untitled1.ipynb",
      "provenance": [],
      "authorship_tag": "ABX9TyMW/6fnHPCedgtgFPgnXP1x",
      "include_colab_link": true
    },
    "kernelspec": {
      "name": "python3",
      "display_name": "Python 3"
    },
    "language_info": {
      "name": "python"
    }
  },
  "cells": [
    {
      "cell_type": "markdown",
      "metadata": {
        "id": "view-in-github",
        "colab_type": "text"
      },
      "source": [
        "<a href=\"https://colab.research.google.com/github/nhattminh160901/1/blob/main/thuc-hanh-03.ipynb\" target=\"_parent\"><img src=\"https://colab.research.google.com/assets/colab-badge.svg\" alt=\"Open In Colab\"/></a>"
      ]
    },
    {
      "cell_type": "code",
      "metadata": {
        "colab": {
          "base_uri": "https://localhost:8080/"
        },
        "id": "NM72zXZ3Sr7_",
        "outputId": "f819091b-cbb9-4f0b-e0ea-ade9b2943410"
      },
      "source": [
        "import numpy as np\n",
        "import pandas as pd\n",
        "\n",
        "Df = pd.read_csv(\"microbiome.csv\")\n",
        "Df.head"
      ],
      "execution_count": 39,
      "outputs": [
        {
          "output_type": "execute_result",
          "data": {
            "text/plain": [
              "<bound method NDFrame.head of          Taxon  Patient  Tissue  Stool\n",
              "0   Firmicutes        1     632    305\n",
              "1   Firmicutes        2     136   4182\n",
              "2   Firmicutes        3    1174    703\n",
              "3   Firmicutes        4     408   3946\n",
              "4   Firmicutes        5     831   8605\n",
              "..         ...      ...     ...    ...\n",
              "70       Other       11     203      6\n",
              "71       Other       12     392      6\n",
              "72       Other       13      28     25\n",
              "73       Other       14      12     22\n",
              "74       Other       15     305     32\n",
              "\n",
              "[75 rows x 4 columns]>"
            ]
          },
          "metadata": {
            "tags": []
          },
          "execution_count": 39
        }
      ]
    },
    {
      "cell_type": "code",
      "metadata": {
        "colab": {
          "base_uri": "https://localhost:8080/"
        },
        "id": "K3mfzNqUStHA",
        "outputId": "23c023e7-4cef-462a-b8a1-61b43a8cacc6"
      },
      "source": [
        "Patient = Df[\"Patient\"]\n",
        "print(np.mean(Patient))"
      ],
      "execution_count": 40,
      "outputs": [
        {
          "output_type": "stream",
          "text": [
            "8.0\n"
          ],
          "name": "stdout"
        }
      ]
    },
    {
      "cell_type": "code",
      "metadata": {
        "colab": {
          "base_uri": "https://localhost:8080/"
        },
        "id": "Tj7zJwNiSvh_",
        "outputId": "9f3ec7c4-5bf4-46c3-8723-85d11a053926"
      },
      "source": [
        "b = Df[\"Tissue\"]\n",
        "c = Df[\"Stool\"]\n",
        "a = Df[\"Patient\"]\n",
        "tbc = Df[[\"Patient\", \"Tissue\", \"Stool\"]]\n",
        "print(np.mean(tbc))"
      ],
      "execution_count": 41,
      "outputs": [
        {
          "output_type": "stream",
          "text": [
            "Patient      8.000000\n",
            "Tissue     975.000000\n",
            "Stool      723.786667\n",
            "dtype: float64\n"
          ],
          "name": "stdout"
        }
      ]
    },
    {
      "cell_type": "code",
      "metadata": {
        "colab": {
          "base_uri": "https://localhost:8080/"
        },
        "id": "5uEn9iJRSx8i",
        "outputId": "3bf4e3dd-df48-43d1-a118-ac9724f2255d"
      },
      "source": [
        "print(\"Tissue\" , np.median(b))\n",
        "print(\"Stool\" , np.median(c))"
      ],
      "execution_count": 42,
      "outputs": [
        {
          "output_type": "stream",
          "text": [
            "Tissue 310.0\n",
            "Stool 80.0\n"
          ],
          "name": "stdout"
        }
      ]
    },
    {
      "cell_type": "code",
      "metadata": {
        "colab": {
          "base_uri": "https://localhost:8080/"
        },
        "id": "NTL6NZwITUQW",
        "outputId": "467b71ce-3274-41ef-fb25-ca6dbec2694d"
      },
      "source": [
        "import statistics as sta\n",
        "print(sta.variance(b))"
      ],
      "execution_count": 45,
      "outputs": [
        {
          "output_type": "stream",
          "text": [
            "3306370.027027027\n"
          ],
          "name": "stdout"
        }
      ]
    },
    {
      "cell_type": "code",
      "metadata": {
        "colab": {
          "base_uri": "https://localhost:8080/"
        },
        "id": "UnHuphToTXYE",
        "outputId": "223c9ec2-05e5-47e1-f882-59deb736f576"
      },
      "source": [
        "print(\"Patient\" , sta.variance(a))\n",
        "print(\"Tissue\" , sta.variance(b))\n",
        "print(\"Stool\" , sta.variance(c))"
      ],
      "execution_count": 46,
      "outputs": [
        {
          "output_type": "stream",
          "text": [
            "Patient 18.91891891891892\n",
            "Tissue 3306370.027027027\n",
            "Stool 2108250.9538738737\n"
          ],
          "name": "stdout"
        }
      ]
    },
    {
      "cell_type": "code",
      "metadata": {
        "colab": {
          "base_uri": "https://localhost:8080/"
        },
        "id": "Uhjp8mdmTZAL",
        "outputId": "2b44c1d7-1932-400b-ac77-e35dd5db3d6d"
      },
      "source": [
        "print(\"Patient\" , sta.stdev(a))\n",
        "print(\"Tissue\" , sta.stdev(b))\n",
        "print(\"Stool\" , sta.stdev(c))"
      ],
      "execution_count": 47,
      "outputs": [
        {
          "output_type": "stream",
          "text": [
            "Patient 4.3495883620084\n",
            "Tissue 1818.342659409119\n",
            "Stool 1451.9817333127417\n"
          ],
          "name": "stdout"
        }
      ]
    },
    {
      "cell_type": "code",
      "metadata": {
        "colab": {
          "base_uri": "https://localhost:8080/"
        },
        "id": "8sj8-JMzTaiW",
        "outputId": "06c40be6-e61c-4270-973b-dd089079cf78"
      },
      "source": [
        "q1 = np.percentile(b, 25)\n",
        "q2 = np.percentile(b, 50)\n",
        "q3 = np.percentile(b, 75)\n",
        "print(q1, q2, q3)"
      ],
      "execution_count": 48,
      "outputs": [
        {
          "output_type": "stream",
          "text": [
            "108.0 310.0 835.0\n"
          ],
          "name": "stdout"
        }
      ]
    },
    {
      "cell_type": "code",
      "metadata": {
        "colab": {
          "base_uri": "https://localhost:8080/"
        },
        "id": "_2gD_FQOTcqJ",
        "outputId": "e6dcde94-056f-41a1-d476-94d284ef8015"
      },
      "source": [
        "import scipy\n",
        "from scipy.stats import zscore\n",
        "print(zscore(b))"
      ],
      "execution_count": 49,
      "outputs": [
        {
          "output_type": "stream",
          "text": [
            "[-0.18990359 -0.46451635  0.1101773  -0.31392225 -0.07972629 -0.15613064\n",
            " -0.14228928 -0.44403112 -0.41358011 -0.45012133 -0.33385382  1.81598764\n",
            " -0.48057234 -0.48666254 -0.38423641  0.36707311  0.82716022 -0.07529705\n",
            "  1.90401875  6.12840462  0.73912911  1.15049461 -0.32111977  0.92792539\n",
            "  0.12180405  3.25659734 -0.27239815  1.09346817  0.3133686   0.18381338\n",
            " -0.22478384  0.34049768 -0.52597203 -0.39641681 -0.22533749  0.07031416\n",
            " -0.16443547 -0.39586316 -0.30506378 -0.23641059 -0.42852879 -0.5165599\n",
            " -0.47946503 -0.51157701 -0.36818042 -0.4761431  -0.50271853 -0.5398134\n",
            " -0.49275274 -0.46064077 -0.16443547  2.13378547 -0.49884295 -0.44624574\n",
            " -0.48112599 -0.4993966  -0.52320376 -0.51157701  0.82937484 -0.48334061\n",
            " -0.47669676 -0.43185072 -0.5165599  -0.36485849 -0.42797514 -0.47558945\n",
            " -0.24803734 -0.34215865 -0.48112599 -0.50271853 -0.42742148 -0.32278073\n",
            " -0.52431107 -0.53316954 -0.37094869]\n"
          ],
          "name": "stdout"
        }
      ]
    },
    {
      "cell_type": "code",
      "metadata": {
        "colab": {
          "base_uri": "https://localhost:8080/"
        },
        "id": "7Tdc3znHTeZ6",
        "outputId": "c95958fc-b726-4d77-d760-e9f41e4eea9f"
      },
      "source": [
        "print(np.max(tbc))\n",
        "print(np.min(tbc))"
      ],
      "execution_count": 50,
      "outputs": [
        {
          "output_type": "stream",
          "text": [
            "Patient       15\n",
            "Tissue     12044\n",
            "Stool       8605\n",
            "dtype: int64\n",
            "Patient    1\n",
            "Tissue     0\n",
            "Stool      0\n",
            "dtype: int64\n"
          ],
          "name": "stdout"
        }
      ]
    },
    {
      "cell_type": "code",
      "metadata": {
        "colab": {
          "base_uri": "https://localhost:8080/"
        },
        "id": "KjPsPjTlTfub",
        "outputId": "b6a7925a-7ce6-4f33-a58f-f709039e5a00"
      },
      "source": [
        "Df. describe"
      ],
      "execution_count": 51,
      "outputs": [
        {
          "output_type": "execute_result",
          "data": {
            "text/plain": [
              "<bound method NDFrame.describe of          Taxon  Patient  Tissue  Stool\n",
              "0   Firmicutes        1     632    305\n",
              "1   Firmicutes        2     136   4182\n",
              "2   Firmicutes        3    1174    703\n",
              "3   Firmicutes        4     408   3946\n",
              "4   Firmicutes        5     831   8605\n",
              "..         ...      ...     ...    ...\n",
              "70       Other       11     203      6\n",
              "71       Other       12     392      6\n",
              "72       Other       13      28     25\n",
              "73       Other       14      12     22\n",
              "74       Other       15     305     32\n",
              "\n",
              "[75 rows x 4 columns]>"
            ]
          },
          "metadata": {
            "tags": []
          },
          "execution_count": 51
        }
      ]
    },
    {
      "cell_type": "code",
      "metadata": {
        "colab": {
          "base_uri": "https://localhost:8080/",
          "height": 282
        },
        "id": "-rW_hVenThUL",
        "outputId": "2ce9a851-5ea5-42dd-ae56-d743a9a9552a"
      },
      "source": [
        "pd.DataFrame.boxplot(b)"
      ],
      "execution_count": 52,
      "outputs": [
        {
          "output_type": "execute_result",
          "data": {
            "text/plain": [
              "<matplotlib.axes._subplots.AxesSubplot at 0x7fcfd91cca50>"
            ]
          },
          "metadata": {
            "tags": []
          },
          "execution_count": 52
        },
        {
          "output_type": "display_data",
          "data": {
            "image/png": "[encoded data removed]",
            "text/plain": [
              "<Figure size 432x288 with 1 Axes>"
            ]
          },
          "metadata": {
            "tags": [],
            "needs_background": "light"
          }
        }
      ]
    },
    {
      "cell_type": "code",
      "metadata": {
        "colab": {
          "base_uri": "https://localhost:8080/",
          "height": 265
        },
        "id": "YPd4NlbITiqe",
        "outputId": "66ff38ae-90a2-4dfc-f258-b98b000f21b1"
      },
      "source": [
        "import matplotlib.pyplot as plt\n",
        "plt.boxplot([b,c ], labels = ['Tissue', 'Stool'], showfliers = True)\n",
        "plt.show()"
      ],
      "execution_count": 53,
      "outputs": [
        {
          "output_type": "display_data",
          "data": {
            "image/png": "[encoded data removed]",
            "text/plain": [
              "<Figure size 432x288 with 1 Axes>"
            ]
          },
          "metadata": {
            "tags": [],
            "needs_background": "light"
          }
        }
      ]
    },
    {
      "cell_type": "code",
      "metadata": {
        "colab": {
          "base_uri": "https://localhost:8080/",
          "height": 265
        },
        "id": "U2Rsn0rWTkIm",
        "outputId": "193adb7e-e31f-42f9-fe5f-aa124b2e52e0"
      },
      "source": [
        "import matplotlib.pyplot as plt\n",
        "plt.boxplot([b,c ], labels = ['Tissue', 'Stool'], showfliers = True, vert = 0)\n",
        "\n",
        "plt.show()"
      ],
      "execution_count": 54,
      "outputs": [
        {
          "output_type": "display_data",
          "data": {
            "image/png": "[encoded data removed]",
            "text/plain": [
              "<Figure size 432x288 with 1 Axes>"
            ]
          },
          "metadata": {
            "tags": [],
            "needs_background": "light"
          }
        }
      ]
    },
    {
      "cell_type": "code",
      "metadata": {
        "colab": {
          "base_uri": "https://localhost:8080/",
          "height": 282
        },
        "id": "hsiytwaQTlhL",
        "outputId": "2760b533-2225-4518-8350-4c1417f120a4"
      },
      "source": [
        "\n",
        "import seaborn as sns\n",
        "sns.violinplot(data=Df[['Tissue','Stool']], palette=\"Dark2_r\")"
      ],
      "execution_count": 55,
      "outputs": [
        {
          "output_type": "execute_result",
          "data": {
            "text/plain": [
              "<matplotlib.axes._subplots.AxesSubplot at 0x7fcfd901df90>"
            ]
          },
          "metadata": {
            "tags": []
          },
          "execution_count": 55
        },
        {
          "output_type": "display_data",
          "data": {
            "image/png": "[encoded data removed]",
            "text/plain": [
              "<Figure size 432x288 with 1 Axes>"
            ]
          },
          "metadata": {
            "tags": [],
            "needs_background": "light"
          }
        }
      ]
    }
  ]
}