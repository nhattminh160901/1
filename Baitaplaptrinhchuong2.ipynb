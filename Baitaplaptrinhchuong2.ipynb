{
  "nbformat": 4,
  "nbformat_minor": 0,
  "metadata": {
    "colab": {
      "name": "Baitaplaptrinhchuong2.ipynb",
      "provenance": [],
      "collapsed_sections": [],
      "authorship_tag": "ABX9TyO310rSOf25MnNlwgpGK611",
      "include_colab_link": true
    },
    "kernelspec": {
      "name": "python3",
      "display_name": "Python 3"
    }
  },
  "cells": [
    {
      "cell_type": "markdown",
      "metadata": {
        "id": "view-in-github",
        "colab_type": "text"
      },
      "source": [
        "<a href=\"https://colab.research.google.com/github/nhattminh160901/1/blob/main/Baitaplaptrinhchuong2.ipynb\" target=\"_parent\"><img src=\"https://colab.research.google.com/assets/colab-badge.svg\" alt=\"Open In Colab\"/></a>"
      ]
    },
    {
      "cell_type": "markdown",
      "metadata": {
        "id": "mem4UPt2Lltw"
      },
      "source": [
        "Bài 1: Lập trình nhập vào từ bàn phím 2 số nguyên và tính:\n",
        "\n",
        "1. Tổng của 2 số\n",
        "2. Tích của 2 số\n",
        "3. Hiệu của 2 số\n",
        "4. Phép chia lấy phần dư của 2 số.\n",
        "5. Phép chia lấy phần nguyên của 2 số\n",
        "\n",
        "Kết quả xuất ra màn hình\n",
        "\n",
        "\n"
      ]
    },
    {
      "cell_type": "code",
      "metadata": {
        "id": "LPRcQwr2K40s",
        "outputId": "28602ebe-8027-4565-e490-499d2305c2ab",
        "colab": {
          "base_uri": "https://localhost:8080/"
        }
      },
      "source": [
        "a= input(\"a = \")\n",
        "b= input(\"b = \")\n",
        "a= int(a)\n",
        "b= int(b)\n",
        "c=a+b\n",
        "d=a-b\n",
        "print(\"1. a + b = \",c)\n",
        "print(\"2. a - b = \",d)\n",
        "while b==0:\n",
        "    try:\n",
        "        chia_1 = a/b\n",
        "    except ZeroDivisionError:\n",
        "        b= int(input(\"Không chia được cho 0. Nhập lại b: \"))\n",
        "print(\"3. Phép chia lấy phần dư của 2 số: \",a % b)\n",
        "print(\"4. Phép chia lấy phần nguyên của 2 số: \",a // b)"
      ],
      "execution_count": 1,
      "outputs": [
        {
          "output_type": "stream",
          "text": [
            "a = 5\n",
            "b = 0\n",
            "1. a + b =  5\n",
            "2. a - b =  5\n",
            "Không chia được cho 0. Nhập lại b: 3\n",
            "3. Phép chia lấy phần dư của 2 số:  2\n",
            "4. Phép chia lấy phần nguyên của 2 số:  1\n"
          ],
          "name": "stdout"
        }
      ]
    },
    {
      "cell_type": "markdown",
      "metadata": {
        "id": "3vhTndn9LoYb"
      },
      "source": [
        "Bài 2: Lập trình nhập vào từ bàn phím 2 số thực và tính:\n",
        "\n",
        "1. Tổng của 2 số\n",
        "2. Tích của 2 số\n",
        "3. Hiệu của 2 số\n",
        "4. Thương của 2 số\n",
        "\n",
        "Kết quả xuất ra màn hình"
      ]
    },
    {
      "cell_type": "code",
      "metadata": {
        "id": "gaHwrZVFLr4b",
        "outputId": "4526e14d-e706-4c07-cc9c-41d86ada015b",
        "colab": {
          "base_uri": "https://localhost:8080/"
        }
      },
      "source": [
        "a= input(\"a = \")\n",
        "b= input(\"b = \")\n",
        "a= float(a)\n",
        "b= float(b)\n",
        "print(\"1. a + b = \" ,a+b)\n",
        "print(\"2. a * b = \" ,a*b)\n",
        "print(\"3. a - b = \" ,a-b)\n",
        "while b==0:\n",
        "    try:\n",
        "        chia_2 = a/b\n",
        "    except ZeroDivisionError:\n",
        "        b= float(input(\"Không chia được cho 0. Nhập lại b: \"))\n",
        "print(\"4. a / b = \",a/b)"
      ],
      "execution_count": 2,
      "outputs": [
        {
          "output_type": "stream",
          "text": [
            "a = 3.2\n",
            "b = 0.0\n",
            "1. a + b =  3.2\n",
            "2. a * b =  0.0\n",
            "3. a - b =  3.2\n",
            "Không chia được cho 0. Nhập lại b: 2.2\n",
            "4. a / b =  1.4545454545454546\n"
          ],
          "name": "stdout"
        }
      ]
    },
    {
      "cell_type": "markdown",
      "metadata": {
        "id": "VkRVzvw7Q9SW"
      },
      "source": [
        "Bài 3: (Sử dụng các hàm toán học) Nhập một số từ bàn phím và tính:\n",
        "\n",
        "1. Trị tuyệt đối\n",
        "2. Lấy phần nguyên của số\n",
        "3. Chuyển đổi thành số thực\n",
        "4. (Nhập thêm 1 số từ bàn phím) và tính lũy thừa $ x^y $\n",
        "4. Tính căn bậc hai\n",
        "\n",
        "Kết quả xuất ra màn hình"
      ]
    },
    {
      "cell_type": "code",
      "metadata": {
        "id": "nAtcOum4RACA",
        "outputId": "e178a836-6b8f-42e7-f92d-0300c0732f5a",
        "colab": {
          "base_uri": "https://localhost:8080/"
        }
      },
      "source": [
        "33x= input(\"x = \")\n",
        "x= float(x)\n",
        "import math\n",
        "print(\"1. Trị tuyệt đối: \",abs(x))\n",
        "print(\"2. Lấy phần nguyên của số: \",math.trunc(x))\n",
        "print(\"3. Chuyển đổi thành số thực: \",float(x))\n",
        "y = input(\"y = \")\n",
        "y = float(y)\n",
        "print(\"4. Tính lũy thừa:\", pow(x, y))\n",
        "if x<0:\n",
        "    print(\"Không căn bậc hai được một số âm\")\n",
        "else:\n",
        "    print(\"5. Tính căn bậc hai: \",math.sqrt(x))"
      ],
      "execution_count": 3,
      "outputs": [
        {
          "output_type": "stream",
          "text": [
            "x = 4\n",
            "1. Trị tuyệt đối:  4.0\n",
            "2. Lấy phần nguyên của số:  4\n",
            "3. Chuyển đổi thành số thực:  4.0\n",
            "y = 3\n",
            "4. Tính lũy thừa: 64.0\n",
            "5. Tính căn bậc hai:  2.0\n"
          ],
          "name": "stdout"
        }
      ]
    },
    {
      "cell_type": "markdown",
      "metadata": {
        "id": "h_xN3syYWEei"
      },
      "source": [
        "Bài 4: Nhập 2 số từ bàn phím và thực hiện các phép so sánh sau giữa 2 số:\n",
        "\n",
        "1. $ \\geq $\n",
        "2. $ \\leq $\n",
        "3. $ > $\n",
        "4. $ < $\n",
        "5. $ \\neq $\n",
        "\n",
        "Kết quả xuất ra màn hình"
      ]
    },
    {
      "cell_type": "code",
      "metadata": {
        "id": "x8U_LCj9WD_N",
        "outputId": "ba750cfa-7558-4aa1-e47a-d0eed9a8b138",
        "colab": {
          "base_uri": "https://localhost:8080/"
        }
      },
      "source": [
        "a= input(\"a = \")\n",
        "b= input(\"b = \")\n",
        "a= float(a)\n",
        "b= float(b)\n",
        "print(\"1. a >= b:\", a >= b)\n",
        "print(\"2. a <= b:\", a <= b)\n",
        "print(\"3. a > b:\", a > b)\n",
        "print(\"4. a < b:\", a < b)\n",
        "print(\"5. a != b:\", a != b)"
      ],
      "execution_count": 4,
      "outputs": [
        {
          "output_type": "stream",
          "text": [
            "a = 3.4\n",
            "b = 3.4\n",
            "1. a >= b: True\n",
            "2. a <= b: True\n",
            "3. a > b: False\n",
            "4. a < b: False\n",
            "5. a != b: False\n"
          ],
          "name": "stdout"
        }
      ]
    },
    {
      "cell_type": "markdown",
      "metadata": {
        "id": "tMSAV2XQYipZ"
      },
      "source": [
        "\n",
        "Bài 5: Nhập 1 chuỗi ký tự từ bàn phím:\n",
        "\n",
        "1. Chuyển thành chuỗi in hoa\n",
        "2. Chuyển thành chuỗi in thường\n",
        "\n",
        "Kết quả xuất ra màn hình"
      ]
    },
    {
      "cell_type": "code",
      "metadata": {
        "id": "0IPHMPBfYpph",
        "outputId": "297d68d7-e045-4404-e5ee-2db00e075e72",
        "colab": {
          "base_uri": "https://localhost:8080/"
        }
      },
      "source": [
        "string= input(\"Nhập 1 chuỗi ký tự từ bàn phím: \")\n",
        "print(\"1. Chuyển thành chuỗi in hoa: \",string.upper())\n",
        "print(\"2. Chuyển thành chuỗi in thường: \",string.lower())"
      ],
      "execution_count": 5,
      "outputs": [
        {
          "output_type": "stream",
          "text": [
            "Nhập 1 chuỗi ký tự từ bàn phím: Chuỗi ký tự\n",
            "1. Chuyển thành chuỗi in hoa:  CHUỖI KÝ TỰ\n",
            "2. Chuyển thành chuỗi in thường:  chuỗi ký tự\n"
          ],
          "name": "stdout"
        }
      ]
    },
    {
      "cell_type": "markdown",
      "metadata": {
        "id": "aF6JloALZrse"
      },
      "source": [
        "Bài 6: Xuất ra màn hình 1 chuỗi ký từ nằm trên nhiều hàng (có thể là 1 bài thơ tùy ý bạn lựa chọn)"
      ]
    },
    {
      "cell_type": "code",
      "metadata": {
        "id": "kue6wKpMZttP",
        "outputId": "a4801d9c-7d98-434a-96cf-53658bd8dc22",
        "colab": {
          "base_uri": "https://localhost:8080/"
        }
      },
      "source": [
        "a= \"\"\"asdklj123lk12j4kklkjasdjajldkjl\n",
        "jklskfjlaksdjklasldjk\n",
        "afjkalsfkafjkj1234;fap=90\"\"\"\n",
        "print(\"Chuỗi ký tự nằm trên nhiều hàng:\\n\",a)"
      ],
      "execution_count": 6,
      "outputs": [
        {
          "output_type": "stream",
          "text": [
            "Chuỗi ký tự nằm trên nhiều hàng:\n",
            " asdklj123lk12j4kklkjasdjajldkjl\n",
            "jklskfjlaksdjklasldjk\n",
            "afjkalsfkafjkj1234;fap=90\n"
          ],
          "name": "stdout"
        }
      ]
    }
  ]
}